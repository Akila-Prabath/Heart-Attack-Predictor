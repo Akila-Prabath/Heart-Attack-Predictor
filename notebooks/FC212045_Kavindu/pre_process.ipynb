{
 "cells": [
  {
   "cell_type": "markdown",
   "id": "f1b3831d",
   "metadata": {},
   "source": [
    "Heart Attack Risk Prediction - Advanced Analysis\n"
   ]
  },
  {
   "cell_type": "code",
   "execution_count": 21,
   "id": "49de1c4e",
   "metadata": {},
   "outputs": [
    {
     "name": "stdout",
     "output_type": "stream",
     "text": [
      "Requirement already satisfied: numpy in /root/miniforge3/lib/python3.12/site-packages (2.2.0)\n",
      "Requirement already satisfied: pandas in /root/miniforge3/lib/python3.12/site-packages (2.3.0)\n",
      "Requirement already satisfied: seaborn in /root/miniforge3/lib/python3.12/site-packages (0.13.2)\n",
      "Requirement already satisfied: matplotlib in /root/miniforge3/lib/python3.12/site-packages (3.10.3)\n",
      "Requirement already satisfied: python-dateutil>=2.8.2 in /root/miniforge3/lib/python3.12/site-packages (from pandas) (2.9.0.post0)\n",
      "Requirement already satisfied: pytz>=2020.1 in /root/miniforge3/lib/python3.12/site-packages (from pandas) (2025.2)\n",
      "Requirement already satisfied: tzdata>=2022.7 in /root/miniforge3/lib/python3.12/site-packages (from pandas) (2025.2)\n",
      "Requirement already satisfied: contourpy>=1.0.1 in /root/miniforge3/lib/python3.12/site-packages (from matplotlib) (1.3.2)\n",
      "Requirement already satisfied: cycler>=0.10 in /root/miniforge3/lib/python3.12/site-packages (from matplotlib) (0.12.1)\n",
      "Requirement already satisfied: fonttools>=4.22.0 in /root/miniforge3/lib/python3.12/site-packages (from matplotlib) (4.58.5)\n",
      "Requirement already satisfied: kiwisolver>=1.3.1 in /root/miniforge3/lib/python3.12/site-packages (from matplotlib) (1.4.8)\n",
      "Requirement already satisfied: packaging>=20.0 in /root/miniforge3/lib/python3.12/site-packages (from matplotlib) (25.0)\n",
      "Requirement already satisfied: pillow>=8 in /root/miniforge3/lib/python3.12/site-packages (from matplotlib) (11.3.0)\n",
      "Requirement already satisfied: pyparsing>=2.3.1 in /root/miniforge3/lib/python3.12/site-packages (from matplotlib) (3.2.3)\n",
      "Requirement already satisfied: six>=1.5 in /root/miniforge3/lib/python3.12/site-packages (from python-dateutil>=2.8.2->pandas) (1.17.0)\n",
      "\u001b[33mWARNING: Running pip as the 'root' user can result in broken permissions and conflicting behaviour with the system package manager, possibly rendering your system unusable. It is recommended to use a virtual environment instead: https://pip.pypa.io/warnings/venv. Use the --root-user-action option if you know what you are doing and want to suppress this warning.\u001b[0m\u001b[33m\n",
      "\u001b[0m"
     ]
    }
   ],
   "source": [
    "!pip install numpy pandas seaborn matplotlib"
   ]
  },
  {
   "cell_type": "code",
   "execution_count": 22,
   "id": "032c5dae",
   "metadata": {},
   "outputs": [],
   "source": [
    "import numpy as np\n",
    "import pandas as pd\n",
    "import seaborn as sns\n",
    "import matplotlib.pyplot as plt\n",
    "\n"
   ]
  },
  {
   "cell_type": "code",
   "execution_count": 23,
   "id": "fb89128b",
   "metadata": {},
   "outputs": [],
   "source": [
    "import numpy as np\n",
    "import pandas as pd\n",
    "import matplotlib.pyplot as plt\n",
    "import seaborn as sns\n",
    "import plotly.express as px\n",
    "from scipy import stats\n",
    "import missingno as msno"
   ]
  },
  {
   "cell_type": "code",
   "execution_count": 24,
   "id": "40d6a74e",
   "metadata": {},
   "outputs": [],
   "source": [
    "# Preprocessing\n",
    "from sklearn.preprocessing import RobustScaler, OneHotEncoder\n",
    "from sklearn.compose import ColumnTransformer\n",
    "from sklearn.pipeline import Pipeline\n",
    "from sklearn.impute import SimpleImputer\n",
    "from sklearn.model_selection import train_test_split, GridSearchCV, StratifiedKFold\n"
   ]
  },
  {
   "cell_type": "code",
   "execution_count": 25,
   "id": "6cbdaa31",
   "metadata": {},
   "outputs": [],
   "source": [
    "# Models\n",
    "from sklearn.linear_model import LogisticRegression\n",
    "from sklearn.ensemble import RandomForestClassifier, GradientBoostingClassifier\n",
    "from xgboost import XGBClassifier\n",
    "from sklearn.svm import SVC\n",
    "from sklearn.neighbors import KNeighborsClassifier\n"
   ]
  },
  {
   "cell_type": "code",
   "execution_count": 26,
   "id": "037ee63e",
   "metadata": {},
   "outputs": [],
   "source": [
    "# Evaluation\n",
    "from sklearn.metrics import (\n",
    "    classification_report, confusion_matrix, roc_auc_score,\n",
    "    roc_curve, precision_recall_curve, auc\n",
    ")\n",
    "from sklearn.calibration import calibration_curve"
   ]
  },
  {
   "cell_type": "code",
   "execution_count": 27,
   "id": "8a357857",
   "metadata": {},
   "outputs": [],
   "source": [
    "# Feature selection\n",
    "from sklearn.feature_selection import RFECV, SelectKBest, f_classif\n"
   ]
  },
  {
   "cell_type": "markdown",
   "id": "496aa3ec",
   "metadata": {},
   "source": [
    "1. Data Loading & Initial Inspection"
   ]
  },
  {
   "cell_type": "code",
   "execution_count": 28,
   "id": "1fc4b7a4",
   "metadata": {},
   "outputs": [],
   "source": [
    "# Load dataset\n",
    "df = pd.read_csv(r'/workspaces/Heart-Attack-Predictor/data/raw/heart_attack_prediction_dataset.csv')\n"
   ]
  },
  {
   "cell_type": "code",
   "execution_count": 29,
   "id": "0e79e759",
   "metadata": {},
   "outputs": [
    {
     "name": "stdout",
     "output_type": "stream",
     "text": [
      "Dataset Dimensions: (8763, 26)\n",
      "\n",
      "First Glance:\n"
     ]
    },
    {
     "data": {
      "text/html": [
       "<div>\n",
       "<style scoped>\n",
       "    .dataframe tbody tr th:only-of-type {\n",
       "        vertical-align: middle;\n",
       "    }\n",
       "\n",
       "    .dataframe tbody tr th {\n",
       "        vertical-align: top;\n",
       "    }\n",
       "\n",
       "    .dataframe thead th {\n",
       "        text-align: right;\n",
       "    }\n",
       "</style>\n",
       "<table border=\"1\" class=\"dataframe\">\n",
       "  <thead>\n",
       "    <tr style=\"text-align: right;\">\n",
       "      <th></th>\n",
       "      <th>Patient ID</th>\n",
       "      <th>Age</th>\n",
       "      <th>Sex</th>\n",
       "      <th>Cholesterol</th>\n",
       "      <th>Blood Pressure</th>\n",
       "      <th>Heart Rate</th>\n",
       "      <th>Diabetes</th>\n",
       "      <th>Family History</th>\n",
       "      <th>Smoking</th>\n",
       "      <th>Obesity</th>\n",
       "      <th>...</th>\n",
       "      <th>Sedentary Hours Per Day</th>\n",
       "      <th>Income</th>\n",
       "      <th>BMI</th>\n",
       "      <th>Triglycerides</th>\n",
       "      <th>Physical Activity Days Per Week</th>\n",
       "      <th>Sleep Hours Per Day</th>\n",
       "      <th>Country</th>\n",
       "      <th>Continent</th>\n",
       "      <th>Hemisphere</th>\n",
       "      <th>Heart Attack Risk</th>\n",
       "    </tr>\n",
       "  </thead>\n",
       "  <tbody>\n",
       "    <tr>\n",
       "      <th>0</th>\n",
       "      <td>BMW7812</td>\n",
       "      <td>67</td>\n",
       "      <td>Male</td>\n",
       "      <td>208</td>\n",
       "      <td>158/88</td>\n",
       "      <td>72</td>\n",
       "      <td>0</td>\n",
       "      <td>0</td>\n",
       "      <td>1</td>\n",
       "      <td>0</td>\n",
       "      <td>...</td>\n",
       "      <td>6.615001</td>\n",
       "      <td>261404</td>\n",
       "      <td>31.251233</td>\n",
       "      <td>286</td>\n",
       "      <td>0</td>\n",
       "      <td>6</td>\n",
       "      <td>Argentina</td>\n",
       "      <td>South America</td>\n",
       "      <td>Southern Hemisphere</td>\n",
       "      <td>0</td>\n",
       "    </tr>\n",
       "    <tr>\n",
       "      <th>1</th>\n",
       "      <td>CZE1114</td>\n",
       "      <td>21</td>\n",
       "      <td>Male</td>\n",
       "      <td>389</td>\n",
       "      <td>165/93</td>\n",
       "      <td>98</td>\n",
       "      <td>1</td>\n",
       "      <td>1</td>\n",
       "      <td>1</td>\n",
       "      <td>1</td>\n",
       "      <td>...</td>\n",
       "      <td>4.963459</td>\n",
       "      <td>285768</td>\n",
       "      <td>27.194973</td>\n",
       "      <td>235</td>\n",
       "      <td>1</td>\n",
       "      <td>7</td>\n",
       "      <td>Canada</td>\n",
       "      <td>North America</td>\n",
       "      <td>Northern Hemisphere</td>\n",
       "      <td>0</td>\n",
       "    </tr>\n",
       "    <tr>\n",
       "      <th>2</th>\n",
       "      <td>BNI9906</td>\n",
       "      <td>21</td>\n",
       "      <td>Female</td>\n",
       "      <td>324</td>\n",
       "      <td>174/99</td>\n",
       "      <td>72</td>\n",
       "      <td>1</td>\n",
       "      <td>0</td>\n",
       "      <td>0</td>\n",
       "      <td>0</td>\n",
       "      <td>...</td>\n",
       "      <td>9.463426</td>\n",
       "      <td>235282</td>\n",
       "      <td>28.176571</td>\n",
       "      <td>587</td>\n",
       "      <td>4</td>\n",
       "      <td>4</td>\n",
       "      <td>France</td>\n",
       "      <td>Europe</td>\n",
       "      <td>Northern Hemisphere</td>\n",
       "      <td>0</td>\n",
       "    </tr>\n",
       "    <tr>\n",
       "      <th>3</th>\n",
       "      <td>JLN3497</td>\n",
       "      <td>84</td>\n",
       "      <td>Male</td>\n",
       "      <td>383</td>\n",
       "      <td>163/100</td>\n",
       "      <td>73</td>\n",
       "      <td>1</td>\n",
       "      <td>1</td>\n",
       "      <td>1</td>\n",
       "      <td>0</td>\n",
       "      <td>...</td>\n",
       "      <td>7.648981</td>\n",
       "      <td>125640</td>\n",
       "      <td>36.464704</td>\n",
       "      <td>378</td>\n",
       "      <td>3</td>\n",
       "      <td>4</td>\n",
       "      <td>Canada</td>\n",
       "      <td>North America</td>\n",
       "      <td>Northern Hemisphere</td>\n",
       "      <td>0</td>\n",
       "    </tr>\n",
       "    <tr>\n",
       "      <th>4</th>\n",
       "      <td>GFO8847</td>\n",
       "      <td>66</td>\n",
       "      <td>Male</td>\n",
       "      <td>318</td>\n",
       "      <td>91/88</td>\n",
       "      <td>93</td>\n",
       "      <td>1</td>\n",
       "      <td>1</td>\n",
       "      <td>1</td>\n",
       "      <td>1</td>\n",
       "      <td>...</td>\n",
       "      <td>1.514821</td>\n",
       "      <td>160555</td>\n",
       "      <td>21.809144</td>\n",
       "      <td>231</td>\n",
       "      <td>1</td>\n",
       "      <td>5</td>\n",
       "      <td>Thailand</td>\n",
       "      <td>Asia</td>\n",
       "      <td>Northern Hemisphere</td>\n",
       "      <td>0</td>\n",
       "    </tr>\n",
       "  </tbody>\n",
       "</table>\n",
       "<p>5 rows × 26 columns</p>\n",
       "</div>"
      ],
      "text/plain": [
       "  Patient ID  Age     Sex  Cholesterol Blood Pressure  Heart Rate  Diabetes  \\\n",
       "0    BMW7812   67    Male          208         158/88          72         0   \n",
       "1    CZE1114   21    Male          389         165/93          98         1   \n",
       "2    BNI9906   21  Female          324         174/99          72         1   \n",
       "3    JLN3497   84    Male          383        163/100          73         1   \n",
       "4    GFO8847   66    Male          318          91/88          93         1   \n",
       "\n",
       "   Family History  Smoking  Obesity  ...  Sedentary Hours Per Day  Income  \\\n",
       "0               0        1        0  ...                 6.615001  261404   \n",
       "1               1        1        1  ...                 4.963459  285768   \n",
       "2               0        0        0  ...                 9.463426  235282   \n",
       "3               1        1        0  ...                 7.648981  125640   \n",
       "4               1        1        1  ...                 1.514821  160555   \n",
       "\n",
       "         BMI  Triglycerides  Physical Activity Days Per Week  \\\n",
       "0  31.251233            286                                0   \n",
       "1  27.194973            235                                1   \n",
       "2  28.176571            587                                4   \n",
       "3  36.464704            378                                3   \n",
       "4  21.809144            231                                1   \n",
       "\n",
       "   Sleep Hours Per Day    Country      Continent           Hemisphere  \\\n",
       "0                    6  Argentina  South America  Southern Hemisphere   \n",
       "1                    7     Canada  North America  Northern Hemisphere   \n",
       "2                    4     France         Europe  Northern Hemisphere   \n",
       "3                    4     Canada  North America  Northern Hemisphere   \n",
       "4                    5   Thailand           Asia  Northern Hemisphere   \n",
       "\n",
       "   Heart Attack Risk  \n",
       "0                  0  \n",
       "1                  0  \n",
       "2                  0  \n",
       "3                  0  \n",
       "4                  0  \n",
       "\n",
       "[5 rows x 26 columns]"
      ]
     },
     "metadata": {},
     "output_type": "display_data"
    },
    {
     "name": "stdout",
     "output_type": "stream",
     "text": [
      "\n",
      "Data Structure:\n",
      "<class 'pandas.core.frame.DataFrame'>\n",
      "RangeIndex: 8763 entries, 0 to 8762\n",
      "Data columns (total 26 columns):\n",
      " #   Column                           Non-Null Count  Dtype  \n",
      "---  ------                           --------------  -----  \n",
      " 0   Patient ID                       8763 non-null   object \n",
      " 1   Age                              8763 non-null   int64  \n",
      " 2   Sex                              8763 non-null   object \n",
      " 3   Cholesterol                      8763 non-null   int64  \n",
      " 4   Blood Pressure                   8763 non-null   object \n",
      " 5   Heart Rate                       8763 non-null   int64  \n",
      " 6   Diabetes                         8763 non-null   int64  \n",
      " 7   Family History                   8763 non-null   int64  \n",
      " 8   Smoking                          8763 non-null   int64  \n",
      " 9   Obesity                          8763 non-null   int64  \n",
      " 10  Alcohol Consumption              8763 non-null   int64  \n",
      " 11  Exercise Hours Per Week          8763 non-null   float64\n",
      " 12  Diet                             8763 non-null   object \n",
      " 13  Previous Heart Problems          8763 non-null   int64  \n",
      " 14  Medication Use                   8763 non-null   int64  \n",
      " 15  Stress Level                     8763 non-null   int64  \n",
      " 16  Sedentary Hours Per Day          8763 non-null   float64\n",
      " 17  Income                           8763 non-null   int64  \n",
      " 18  BMI                              8763 non-null   float64\n",
      " 19  Triglycerides                    8763 non-null   int64  \n",
      " 20  Physical Activity Days Per Week  8763 non-null   int64  \n",
      " 21  Sleep Hours Per Day              8763 non-null   int64  \n",
      " 22  Country                          8763 non-null   object \n",
      " 23  Continent                        8763 non-null   object \n",
      " 24  Hemisphere                       8763 non-null   object \n",
      " 25  Heart Attack Risk                8763 non-null   int64  \n",
      "dtypes: float64(3), int64(16), object(7)\n",
      "memory usage: 1.7+ MB\n",
      "\n",
      "Statistical Summary:\n"
     ]
    },
    {
     "data": {
      "text/html": [
       "<style type=\"text/css\">\n",
       "#T_70712_row0_col0, #T_70712_row0_col1, #T_70712_row0_col2, #T_70712_row0_col3, #T_70712_row0_col4, #T_70712_row0_col5, #T_70712_row0_col6, #T_70712_row0_col7, #T_70712_row1_col0, #T_70712_row1_col1, #T_70712_row1_col2, #T_70712_row1_col4, #T_70712_row1_col5, #T_70712_row1_col6, #T_70712_row1_col7, #T_70712_row2_col0, #T_70712_row2_col1, #T_70712_row2_col2, #T_70712_row2_col3, #T_70712_row2_col4, #T_70712_row2_col5, #T_70712_row2_col6, #T_70712_row2_col7, #T_70712_row3_col0, #T_70712_row3_col1, #T_70712_row3_col2, #T_70712_row3_col3, #T_70712_row3_col4, #T_70712_row3_col5, #T_70712_row3_col6, #T_70712_row3_col7, #T_70712_row4_col0, #T_70712_row4_col1, #T_70712_row4_col2, #T_70712_row4_col3, #T_70712_row4_col4, #T_70712_row4_col5, #T_70712_row4_col6, #T_70712_row4_col7, #T_70712_row5_col0, #T_70712_row5_col1, #T_70712_row5_col2, #T_70712_row5_col3, #T_70712_row5_col4, #T_70712_row5_col5, #T_70712_row5_col6, #T_70712_row5_col7, #T_70712_row6_col0, #T_70712_row6_col1, #T_70712_row6_col2, #T_70712_row6_col3, #T_70712_row6_col4, #T_70712_row6_col5, #T_70712_row6_col6, #T_70712_row6_col7, #T_70712_row7_col0, #T_70712_row7_col1, #T_70712_row7_col2, #T_70712_row7_col3, #T_70712_row7_col4, #T_70712_row7_col5, #T_70712_row7_col6, #T_70712_row7_col7, #T_70712_row8_col0, #T_70712_row8_col1, #T_70712_row8_col2, #T_70712_row8_col3, #T_70712_row8_col4, #T_70712_row8_col5, #T_70712_row8_col6, #T_70712_row8_col7, #T_70712_row9_col0, #T_70712_row9_col1, #T_70712_row9_col2, #T_70712_row9_col3, #T_70712_row9_col4, #T_70712_row9_col5, #T_70712_row9_col6, #T_70712_row9_col7, #T_70712_row10_col0, #T_70712_row10_col1, #T_70712_row10_col2, #T_70712_row10_col3, #T_70712_row10_col4, #T_70712_row10_col5, #T_70712_row10_col6, #T_70712_row10_col7, #T_70712_row11_col0, #T_70712_row11_col1, #T_70712_row11_col2, #T_70712_row11_col3, #T_70712_row11_col4, #T_70712_row11_col5, #T_70712_row11_col6, #T_70712_row11_col7, #T_70712_row12_col0, #T_70712_row12_col1, #T_70712_row12_col2, #T_70712_row12_col3, #T_70712_row12_col4, #T_70712_row12_col5, #T_70712_row12_col6, #T_70712_row12_col7, #T_70712_row13_col0, #T_70712_row14_col0, #T_70712_row14_col1, #T_70712_row14_col2, #T_70712_row14_col3, #T_70712_row14_col4, #T_70712_row14_col5, #T_70712_row14_col6, #T_70712_row14_col7, #T_70712_row15_col0, #T_70712_row15_col1, #T_70712_row15_col2, #T_70712_row15_col3, #T_70712_row15_col4, #T_70712_row15_col5, #T_70712_row15_col6, #T_70712_row15_col7, #T_70712_row16_col0, #T_70712_row16_col1, #T_70712_row16_col2, #T_70712_row16_col3, #T_70712_row16_col4, #T_70712_row16_col5, #T_70712_row16_col6, #T_70712_row16_col7, #T_70712_row17_col0, #T_70712_row17_col1, #T_70712_row17_col2, #T_70712_row17_col3, #T_70712_row17_col4, #T_70712_row17_col5, #T_70712_row17_col6, #T_70712_row17_col7, #T_70712_row18_col0, #T_70712_row18_col1, #T_70712_row18_col2, #T_70712_row18_col3, #T_70712_row18_col4, #T_70712_row18_col5, #T_70712_row18_col6, #T_70712_row18_col7 {\n",
       "  background-color: #f7fbff;\n",
       "  color: #000000;\n",
       "}\n",
       "#T_70712_row1_col3 {\n",
       "  background-color: #f6faff;\n",
       "  color: #000000;\n",
       "}\n",
       "#T_70712_row13_col1, #T_70712_row13_col2, #T_70712_row13_col3, #T_70712_row13_col4, #T_70712_row13_col5, #T_70712_row13_col6, #T_70712_row13_col7 {\n",
       "  background-color: #08306b;\n",
       "  color: #f1f1f1;\n",
       "}\n",
       "</style>\n",
       "<table id=\"T_70712\">\n",
       "  <thead>\n",
       "    <tr>\n",
       "      <th class=\"blank level0\" >&nbsp;</th>\n",
       "      <th id=\"T_70712_level0_col0\" class=\"col_heading level0 col0\" >count</th>\n",
       "      <th id=\"T_70712_level0_col1\" class=\"col_heading level0 col1\" >mean</th>\n",
       "      <th id=\"T_70712_level0_col2\" class=\"col_heading level0 col2\" >std</th>\n",
       "      <th id=\"T_70712_level0_col3\" class=\"col_heading level0 col3\" >min</th>\n",
       "      <th id=\"T_70712_level0_col4\" class=\"col_heading level0 col4\" >25%</th>\n",
       "      <th id=\"T_70712_level0_col5\" class=\"col_heading level0 col5\" >50%</th>\n",
       "      <th id=\"T_70712_level0_col6\" class=\"col_heading level0 col6\" >75%</th>\n",
       "      <th id=\"T_70712_level0_col7\" class=\"col_heading level0 col7\" >max</th>\n",
       "    </tr>\n",
       "  </thead>\n",
       "  <tbody>\n",
       "    <tr>\n",
       "      <th id=\"T_70712_level0_row0\" class=\"row_heading level0 row0\" >Age</th>\n",
       "      <td id=\"T_70712_row0_col0\" class=\"data row0 col0\" >8763.000000</td>\n",
       "      <td id=\"T_70712_row0_col1\" class=\"data row0 col1\" >53.707977</td>\n",
       "      <td id=\"T_70712_row0_col2\" class=\"data row0 col2\" >21.249509</td>\n",
       "      <td id=\"T_70712_row0_col3\" class=\"data row0 col3\" >18.000000</td>\n",
       "      <td id=\"T_70712_row0_col4\" class=\"data row0 col4\" >35.000000</td>\n",
       "      <td id=\"T_70712_row0_col5\" class=\"data row0 col5\" >54.000000</td>\n",
       "      <td id=\"T_70712_row0_col6\" class=\"data row0 col6\" >72.000000</td>\n",
       "      <td id=\"T_70712_row0_col7\" class=\"data row0 col7\" >90.000000</td>\n",
       "    </tr>\n",
       "    <tr>\n",
       "      <th id=\"T_70712_level0_row1\" class=\"row_heading level0 row1\" >Cholesterol</th>\n",
       "      <td id=\"T_70712_row1_col0\" class=\"data row1 col0\" >8763.000000</td>\n",
       "      <td id=\"T_70712_row1_col1\" class=\"data row1 col1\" >259.877211</td>\n",
       "      <td id=\"T_70712_row1_col2\" class=\"data row1 col2\" >80.863276</td>\n",
       "      <td id=\"T_70712_row1_col3\" class=\"data row1 col3\" >120.000000</td>\n",
       "      <td id=\"T_70712_row1_col4\" class=\"data row1 col4\" >192.000000</td>\n",
       "      <td id=\"T_70712_row1_col5\" class=\"data row1 col5\" >259.000000</td>\n",
       "      <td id=\"T_70712_row1_col6\" class=\"data row1 col6\" >330.000000</td>\n",
       "      <td id=\"T_70712_row1_col7\" class=\"data row1 col7\" >400.000000</td>\n",
       "    </tr>\n",
       "    <tr>\n",
       "      <th id=\"T_70712_level0_row2\" class=\"row_heading level0 row2\" >Heart Rate</th>\n",
       "      <td id=\"T_70712_row2_col0\" class=\"data row2 col0\" >8763.000000</td>\n",
       "      <td id=\"T_70712_row2_col1\" class=\"data row2 col1\" >75.021682</td>\n",
       "      <td id=\"T_70712_row2_col2\" class=\"data row2 col2\" >20.550948</td>\n",
       "      <td id=\"T_70712_row2_col3\" class=\"data row2 col3\" >40.000000</td>\n",
       "      <td id=\"T_70712_row2_col4\" class=\"data row2 col4\" >57.000000</td>\n",
       "      <td id=\"T_70712_row2_col5\" class=\"data row2 col5\" >75.000000</td>\n",
       "      <td id=\"T_70712_row2_col6\" class=\"data row2 col6\" >93.000000</td>\n",
       "      <td id=\"T_70712_row2_col7\" class=\"data row2 col7\" >110.000000</td>\n",
       "    </tr>\n",
       "    <tr>\n",
       "      <th id=\"T_70712_level0_row3\" class=\"row_heading level0 row3\" >Diabetes</th>\n",
       "      <td id=\"T_70712_row3_col0\" class=\"data row3 col0\" >8763.000000</td>\n",
       "      <td id=\"T_70712_row3_col1\" class=\"data row3 col1\" >0.652288</td>\n",
       "      <td id=\"T_70712_row3_col2\" class=\"data row3 col2\" >0.476271</td>\n",
       "      <td id=\"T_70712_row3_col3\" class=\"data row3 col3\" >0.000000</td>\n",
       "      <td id=\"T_70712_row3_col4\" class=\"data row3 col4\" >0.000000</td>\n",
       "      <td id=\"T_70712_row3_col5\" class=\"data row3 col5\" >1.000000</td>\n",
       "      <td id=\"T_70712_row3_col6\" class=\"data row3 col6\" >1.000000</td>\n",
       "      <td id=\"T_70712_row3_col7\" class=\"data row3 col7\" >1.000000</td>\n",
       "    </tr>\n",
       "    <tr>\n",
       "      <th id=\"T_70712_level0_row4\" class=\"row_heading level0 row4\" >Family History</th>\n",
       "      <td id=\"T_70712_row4_col0\" class=\"data row4 col0\" >8763.000000</td>\n",
       "      <td id=\"T_70712_row4_col1\" class=\"data row4 col1\" >0.492982</td>\n",
       "      <td id=\"T_70712_row4_col2\" class=\"data row4 col2\" >0.499979</td>\n",
       "      <td id=\"T_70712_row4_col3\" class=\"data row4 col3\" >0.000000</td>\n",
       "      <td id=\"T_70712_row4_col4\" class=\"data row4 col4\" >0.000000</td>\n",
       "      <td id=\"T_70712_row4_col5\" class=\"data row4 col5\" >0.000000</td>\n",
       "      <td id=\"T_70712_row4_col6\" class=\"data row4 col6\" >1.000000</td>\n",
       "      <td id=\"T_70712_row4_col7\" class=\"data row4 col7\" >1.000000</td>\n",
       "    </tr>\n",
       "    <tr>\n",
       "      <th id=\"T_70712_level0_row5\" class=\"row_heading level0 row5\" >Smoking</th>\n",
       "      <td id=\"T_70712_row5_col0\" class=\"data row5 col0\" >8763.000000</td>\n",
       "      <td id=\"T_70712_row5_col1\" class=\"data row5 col1\" >0.896839</td>\n",
       "      <td id=\"T_70712_row5_col2\" class=\"data row5 col2\" >0.304186</td>\n",
       "      <td id=\"T_70712_row5_col3\" class=\"data row5 col3\" >0.000000</td>\n",
       "      <td id=\"T_70712_row5_col4\" class=\"data row5 col4\" >1.000000</td>\n",
       "      <td id=\"T_70712_row5_col5\" class=\"data row5 col5\" >1.000000</td>\n",
       "      <td id=\"T_70712_row5_col6\" class=\"data row5 col6\" >1.000000</td>\n",
       "      <td id=\"T_70712_row5_col7\" class=\"data row5 col7\" >1.000000</td>\n",
       "    </tr>\n",
       "    <tr>\n",
       "      <th id=\"T_70712_level0_row6\" class=\"row_heading level0 row6\" >Obesity</th>\n",
       "      <td id=\"T_70712_row6_col0\" class=\"data row6 col0\" >8763.000000</td>\n",
       "      <td id=\"T_70712_row6_col1\" class=\"data row6 col1\" >0.501426</td>\n",
       "      <td id=\"T_70712_row6_col2\" class=\"data row6 col2\" >0.500026</td>\n",
       "      <td id=\"T_70712_row6_col3\" class=\"data row6 col3\" >0.000000</td>\n",
       "      <td id=\"T_70712_row6_col4\" class=\"data row6 col4\" >0.000000</td>\n",
       "      <td id=\"T_70712_row6_col5\" class=\"data row6 col5\" >1.000000</td>\n",
       "      <td id=\"T_70712_row6_col6\" class=\"data row6 col6\" >1.000000</td>\n",
       "      <td id=\"T_70712_row6_col7\" class=\"data row6 col7\" >1.000000</td>\n",
       "    </tr>\n",
       "    <tr>\n",
       "      <th id=\"T_70712_level0_row7\" class=\"row_heading level0 row7\" >Alcohol Consumption</th>\n",
       "      <td id=\"T_70712_row7_col0\" class=\"data row7 col0\" >8763.000000</td>\n",
       "      <td id=\"T_70712_row7_col1\" class=\"data row7 col1\" >0.598083</td>\n",
       "      <td id=\"T_70712_row7_col2\" class=\"data row7 col2\" >0.490313</td>\n",
       "      <td id=\"T_70712_row7_col3\" class=\"data row7 col3\" >0.000000</td>\n",
       "      <td id=\"T_70712_row7_col4\" class=\"data row7 col4\" >0.000000</td>\n",
       "      <td id=\"T_70712_row7_col5\" class=\"data row7 col5\" >1.000000</td>\n",
       "      <td id=\"T_70712_row7_col6\" class=\"data row7 col6\" >1.000000</td>\n",
       "      <td id=\"T_70712_row7_col7\" class=\"data row7 col7\" >1.000000</td>\n",
       "    </tr>\n",
       "    <tr>\n",
       "      <th id=\"T_70712_level0_row8\" class=\"row_heading level0 row8\" >Exercise Hours Per Week</th>\n",
       "      <td id=\"T_70712_row8_col0\" class=\"data row8 col0\" >8763.000000</td>\n",
       "      <td id=\"T_70712_row8_col1\" class=\"data row8 col1\" >10.014284</td>\n",
       "      <td id=\"T_70712_row8_col2\" class=\"data row8 col2\" >5.783745</td>\n",
       "      <td id=\"T_70712_row8_col3\" class=\"data row8 col3\" >0.002442</td>\n",
       "      <td id=\"T_70712_row8_col4\" class=\"data row8 col4\" >4.981579</td>\n",
       "      <td id=\"T_70712_row8_col5\" class=\"data row8 col5\" >10.069559</td>\n",
       "      <td id=\"T_70712_row8_col6\" class=\"data row8 col6\" >15.050018</td>\n",
       "      <td id=\"T_70712_row8_col7\" class=\"data row8 col7\" >19.998709</td>\n",
       "    </tr>\n",
       "    <tr>\n",
       "      <th id=\"T_70712_level0_row9\" class=\"row_heading level0 row9\" >Previous Heart Problems</th>\n",
       "      <td id=\"T_70712_row9_col0\" class=\"data row9 col0\" >8763.000000</td>\n",
       "      <td id=\"T_70712_row9_col1\" class=\"data row9 col1\" >0.495835</td>\n",
       "      <td id=\"T_70712_row9_col2\" class=\"data row9 col2\" >0.500011</td>\n",
       "      <td id=\"T_70712_row9_col3\" class=\"data row9 col3\" >0.000000</td>\n",
       "      <td id=\"T_70712_row9_col4\" class=\"data row9 col4\" >0.000000</td>\n",
       "      <td id=\"T_70712_row9_col5\" class=\"data row9 col5\" >0.000000</td>\n",
       "      <td id=\"T_70712_row9_col6\" class=\"data row9 col6\" >1.000000</td>\n",
       "      <td id=\"T_70712_row9_col7\" class=\"data row9 col7\" >1.000000</td>\n",
       "    </tr>\n",
       "    <tr>\n",
       "      <th id=\"T_70712_level0_row10\" class=\"row_heading level0 row10\" >Medication Use</th>\n",
       "      <td id=\"T_70712_row10_col0\" class=\"data row10 col0\" >8763.000000</td>\n",
       "      <td id=\"T_70712_row10_col1\" class=\"data row10 col1\" >0.498345</td>\n",
       "      <td id=\"T_70712_row10_col2\" class=\"data row10 col2\" >0.500026</td>\n",
       "      <td id=\"T_70712_row10_col3\" class=\"data row10 col3\" >0.000000</td>\n",
       "      <td id=\"T_70712_row10_col4\" class=\"data row10 col4\" >0.000000</td>\n",
       "      <td id=\"T_70712_row10_col5\" class=\"data row10 col5\" >0.000000</td>\n",
       "      <td id=\"T_70712_row10_col6\" class=\"data row10 col6\" >1.000000</td>\n",
       "      <td id=\"T_70712_row10_col7\" class=\"data row10 col7\" >1.000000</td>\n",
       "    </tr>\n",
       "    <tr>\n",
       "      <th id=\"T_70712_level0_row11\" class=\"row_heading level0 row11\" >Stress Level</th>\n",
       "      <td id=\"T_70712_row11_col0\" class=\"data row11 col0\" >8763.000000</td>\n",
       "      <td id=\"T_70712_row11_col1\" class=\"data row11 col1\" >5.469702</td>\n",
       "      <td id=\"T_70712_row11_col2\" class=\"data row11 col2\" >2.859622</td>\n",
       "      <td id=\"T_70712_row11_col3\" class=\"data row11 col3\" >1.000000</td>\n",
       "      <td id=\"T_70712_row11_col4\" class=\"data row11 col4\" >3.000000</td>\n",
       "      <td id=\"T_70712_row11_col5\" class=\"data row11 col5\" >5.000000</td>\n",
       "      <td id=\"T_70712_row11_col6\" class=\"data row11 col6\" >8.000000</td>\n",
       "      <td id=\"T_70712_row11_col7\" class=\"data row11 col7\" >10.000000</td>\n",
       "    </tr>\n",
       "    <tr>\n",
       "      <th id=\"T_70712_level0_row12\" class=\"row_heading level0 row12\" >Sedentary Hours Per Day</th>\n",
       "      <td id=\"T_70712_row12_col0\" class=\"data row12 col0\" >8763.000000</td>\n",
       "      <td id=\"T_70712_row12_col1\" class=\"data row12 col1\" >5.993690</td>\n",
       "      <td id=\"T_70712_row12_col2\" class=\"data row12 col2\" >3.466359</td>\n",
       "      <td id=\"T_70712_row12_col3\" class=\"data row12 col3\" >0.001263</td>\n",
       "      <td id=\"T_70712_row12_col4\" class=\"data row12 col4\" >2.998794</td>\n",
       "      <td id=\"T_70712_row12_col5\" class=\"data row12 col5\" >5.933622</td>\n",
       "      <td id=\"T_70712_row12_col6\" class=\"data row12 col6\" >9.019124</td>\n",
       "      <td id=\"T_70712_row12_col7\" class=\"data row12 col7\" >11.999313</td>\n",
       "    </tr>\n",
       "    <tr>\n",
       "      <th id=\"T_70712_level0_row13\" class=\"row_heading level0 row13\" >Income</th>\n",
       "      <td id=\"T_70712_row13_col0\" class=\"data row13 col0\" >8763.000000</td>\n",
       "      <td id=\"T_70712_row13_col1\" class=\"data row13 col1\" >158263.181901</td>\n",
       "      <td id=\"T_70712_row13_col2\" class=\"data row13 col2\" >80575.190806</td>\n",
       "      <td id=\"T_70712_row13_col3\" class=\"data row13 col3\" >20062.000000</td>\n",
       "      <td id=\"T_70712_row13_col4\" class=\"data row13 col4\" >88310.000000</td>\n",
       "      <td id=\"T_70712_row13_col5\" class=\"data row13 col5\" >157866.000000</td>\n",
       "      <td id=\"T_70712_row13_col6\" class=\"data row13 col6\" >227749.000000</td>\n",
       "      <td id=\"T_70712_row13_col7\" class=\"data row13 col7\" >299954.000000</td>\n",
       "    </tr>\n",
       "    <tr>\n",
       "      <th id=\"T_70712_level0_row14\" class=\"row_heading level0 row14\" >BMI</th>\n",
       "      <td id=\"T_70712_row14_col0\" class=\"data row14 col0\" >8763.000000</td>\n",
       "      <td id=\"T_70712_row14_col1\" class=\"data row14 col1\" >28.891446</td>\n",
       "      <td id=\"T_70712_row14_col2\" class=\"data row14 col2\" >6.319181</td>\n",
       "      <td id=\"T_70712_row14_col3\" class=\"data row14 col3\" >18.002337</td>\n",
       "      <td id=\"T_70712_row14_col4\" class=\"data row14 col4\" >23.422985</td>\n",
       "      <td id=\"T_70712_row14_col5\" class=\"data row14 col5\" >28.768999</td>\n",
       "      <td id=\"T_70712_row14_col6\" class=\"data row14 col6\" >34.324594</td>\n",
       "      <td id=\"T_70712_row14_col7\" class=\"data row14 col7\" >39.997211</td>\n",
       "    </tr>\n",
       "    <tr>\n",
       "      <th id=\"T_70712_level0_row15\" class=\"row_heading level0 row15\" >Triglycerides</th>\n",
       "      <td id=\"T_70712_row15_col0\" class=\"data row15 col0\" >8763.000000</td>\n",
       "      <td id=\"T_70712_row15_col1\" class=\"data row15 col1\" >417.677051</td>\n",
       "      <td id=\"T_70712_row15_col2\" class=\"data row15 col2\" >223.748137</td>\n",
       "      <td id=\"T_70712_row15_col3\" class=\"data row15 col3\" >30.000000</td>\n",
       "      <td id=\"T_70712_row15_col4\" class=\"data row15 col4\" >225.500000</td>\n",
       "      <td id=\"T_70712_row15_col5\" class=\"data row15 col5\" >417.000000</td>\n",
       "      <td id=\"T_70712_row15_col6\" class=\"data row15 col6\" >612.000000</td>\n",
       "      <td id=\"T_70712_row15_col7\" class=\"data row15 col7\" >800.000000</td>\n",
       "    </tr>\n",
       "    <tr>\n",
       "      <th id=\"T_70712_level0_row16\" class=\"row_heading level0 row16\" >Physical Activity Days Per Week</th>\n",
       "      <td id=\"T_70712_row16_col0\" class=\"data row16 col0\" >8763.000000</td>\n",
       "      <td id=\"T_70712_row16_col1\" class=\"data row16 col1\" >3.489672</td>\n",
       "      <td id=\"T_70712_row16_col2\" class=\"data row16 col2\" >2.282687</td>\n",
       "      <td id=\"T_70712_row16_col3\" class=\"data row16 col3\" >0.000000</td>\n",
       "      <td id=\"T_70712_row16_col4\" class=\"data row16 col4\" >2.000000</td>\n",
       "      <td id=\"T_70712_row16_col5\" class=\"data row16 col5\" >3.000000</td>\n",
       "      <td id=\"T_70712_row16_col6\" class=\"data row16 col6\" >5.000000</td>\n",
       "      <td id=\"T_70712_row16_col7\" class=\"data row16 col7\" >7.000000</td>\n",
       "    </tr>\n",
       "    <tr>\n",
       "      <th id=\"T_70712_level0_row17\" class=\"row_heading level0 row17\" >Sleep Hours Per Day</th>\n",
       "      <td id=\"T_70712_row17_col0\" class=\"data row17 col0\" >8763.000000</td>\n",
       "      <td id=\"T_70712_row17_col1\" class=\"data row17 col1\" >7.023508</td>\n",
       "      <td id=\"T_70712_row17_col2\" class=\"data row17 col2\" >1.988473</td>\n",
       "      <td id=\"T_70712_row17_col3\" class=\"data row17 col3\" >4.000000</td>\n",
       "      <td id=\"T_70712_row17_col4\" class=\"data row17 col4\" >5.000000</td>\n",
       "      <td id=\"T_70712_row17_col5\" class=\"data row17 col5\" >7.000000</td>\n",
       "      <td id=\"T_70712_row17_col6\" class=\"data row17 col6\" >9.000000</td>\n",
       "      <td id=\"T_70712_row17_col7\" class=\"data row17 col7\" >10.000000</td>\n",
       "    </tr>\n",
       "    <tr>\n",
       "      <th id=\"T_70712_level0_row18\" class=\"row_heading level0 row18\" >Heart Attack Risk</th>\n",
       "      <td id=\"T_70712_row18_col0\" class=\"data row18 col0\" >8763.000000</td>\n",
       "      <td id=\"T_70712_row18_col1\" class=\"data row18 col1\" >0.358211</td>\n",
       "      <td id=\"T_70712_row18_col2\" class=\"data row18 col2\" >0.479502</td>\n",
       "      <td id=\"T_70712_row18_col3\" class=\"data row18 col3\" >0.000000</td>\n",
       "      <td id=\"T_70712_row18_col4\" class=\"data row18 col4\" >0.000000</td>\n",
       "      <td id=\"T_70712_row18_col5\" class=\"data row18 col5\" >0.000000</td>\n",
       "      <td id=\"T_70712_row18_col6\" class=\"data row18 col6\" >1.000000</td>\n",
       "      <td id=\"T_70712_row18_col7\" class=\"data row18 col7\" >1.000000</td>\n",
       "    </tr>\n",
       "  </tbody>\n",
       "</table>\n"
      ],
      "text/plain": [
       "<pandas.io.formats.style.Styler at 0x7d7e67ca48f0>"
      ]
     },
     "metadata": {},
     "output_type": "display_data"
    }
   ],
   "source": [
    "# Initial inspection\n",
    "print(f\"Dataset Dimensions: {df.shape}\")\n",
    "print(\"\\nFirst Glance:\")\n",
    "display(df.head())\n",
    "\n",
    "print(\"\\nData Structure:\")\n",
    "df.info()\n",
    "\n",
    "print(\"\\nStatistical Summary:\")\n",
    "display(df.describe().T.style.background_gradient(cmap='Blues'))"
   ]
  },
  {
   "cell_type": "markdown",
   "id": "c04382fd",
   "metadata": {},
   "source": [
    " 2. Data Quality Assessment"
   ]
  },
  {
   "cell_type": "code",
   "execution_count": 30,
   "id": "f5b92a13",
   "metadata": {},
   "outputs": [
    {
     "data": {
      "text/plain": [
       "<Figure size 1500x600 with 0 Axes>"
      ]
     },
     "metadata": {},
     "output_type": "display_data"
    },
    {
     "data": {
      "image/png": "[encoded data removed]",
      "text/plain": [
       "<Figure size 2500x1000 with 1 Axes>"
      ]
     },
     "metadata": {},
     "output_type": "display_data"
    }
   ],
   "source": [
    "# Missing values analysis\n",
    "plt.figure(figsize=(15, 6))\n",
    "msno.matrix(df, sparkline=False, fontsize=12)\n",
    "plt.title('Missing Values Analysis', fontsize=16)\n",
    "plt.show()"
   ]
  },
  {
   "cell_type": "code",
   "execution_count": 31,
   "id": "8426261c",
   "metadata": {},
   "outputs": [
    {
     "name": "stdout",
     "output_type": "stream",
     "text": [
      "\n",
      "Duplicate Entries: 0\n"
     ]
    }
   ],
   "source": [
    "# Duplicate analysis\n",
    "duplicate_count = df.duplicated().sum()\n",
    "print(f\"\\nDuplicate Entries: {duplicate_count}\")"
   ]
  },
  {
   "cell_type": "code",
   "execution_count": 32,
   "id": "db43316f",
   "metadata": {},
   "outputs": [
    {
     "name": "stdout",
     "output_type": "stream",
     "text": [
      "\n",
      "Categorical Features: ['Patient ID', 'Sex', 'Blood Pressure', 'Diet', 'Country', 'Continent', 'Hemisphere']\n"
     ]
    }
   ],
   "source": [
    "# Data type validation\n",
    "data_types = df.dtypes\n",
    "categorical_cols = df.select_dtypes(include=['object']).columns\n",
    "print(\"\\nCategorical Features:\", categorical_cols.tolist())"
   ]
  },
  {
   "cell_type": "markdown",
   "id": "fe90f9a8",
   "metadata": {},
   "source": [
    " 3. Exploratory Data Analysis (EDA)"
   ]
  },
  {
   "cell_type": "markdown",
   "id": "269d717e",
   "metadata": {},
   "source": [
    "Target Distribution"
   ]
  },
  {
   "cell_type": "code",
   "execution_count": 33,
   "id": "dca7cfb8",
   "metadata": {},
   "outputs": [
    {
     "name": "stderr",
     "output_type": "stream",
     "text": [
      "/tmp/ipykernel_1126/2265941296.py:3: FutureWarning: \n",
      "\n",
      "Passing `palette` without assigning `hue` is deprecated and will be removed in v0.14.0. Assign the `x` variable to `hue` and set `legend=False` for the same effect.\n",
      "\n",
      "  ax = sns.countplot(x='Heart Attack Risk', data=df, palette='viridis')\n"
     ]
    },
    {
     "data": {
      "text/plain": [
       "Text(0, 0.5, 'Count')"
      ]
     },
     "execution_count": 33,
     "metadata": {},
     "output_type": "execute_result"
    },
    {
     "data": {
      "image/png": "[encoded data removed]",
      "text/plain": [
       "<Figure size 1000x600 with 1 Axes>"
      ]
     },
     "metadata": {},
     "output_type": "display_data"
    }
   ],
   "source": [
    "# Target distribution\n",
    "plt.figure(figsize=(10, 6))\n",
    "ax = sns.countplot(x='Heart Attack Risk', data=df, palette='viridis')\n",
    "plt.title('Heart Attack Risk Distribution', fontsize=16)\n",
    "plt.xlabel('Heart Attack Risk', fontsize=14)\n",
    "plt.ylabel('Count', fontsize=14)"
   ]
  },
  {
   "cell_type": "code",
   "execution_count": 34,
   "id": "3f200a7f",
   "metadata": {},
   "outputs": [],
   "source": [
    "# Add percentage labels\n",
    "total = len(df)\n",
    "for p in ax.patches:\n",
    "    percentage = f'{100 * p.get_height()/total:.1f}%'\n",
    "    x = p.get_x() + p.get_width()/2\n",
    "    y = p.get_height() + 20\n",
    "    ax.annotate(percentage, (x, y), ha='center', fontsize=12)\n",
    "    \n",
    "plt.show()"
   ]
  },
  {
   "cell_type": "code",
   "execution_count": 35,
   "id": "119921b5",
   "metadata": {},
   "outputs": [
    {
     "name": "stderr",
     "output_type": "stream",
     "text": [
      "/tmp/ipykernel_1126/2904242820.py:3: FutureWarning: \n",
      "\n",
      "Passing `palette` without assigning `hue` is deprecated and will be removed in v0.14.0. Assign the `x` variable to `hue` and set `legend=False` for the same effect.\n",
      "\n",
      "  ax = sns.countplot(x='Heart Attack Risk', data=df, palette='viridis')\n"
     ]
    },
    {
     "data": {
      "image/png": "[encoded data removed]",
      "text/plain": [
       "<Figure size 1000x600 with 1 Axes>"
      ]
     },
     "metadata": {},
     "output_type": "display_data"
    }
   ],
   "source": [
    "# Target distribution\n",
    "plt.figure(figsize=(10, 6))\n",
    "ax = sns.countplot(x='Heart Attack Risk', data=df, palette='viridis')\n",
    "plt.title('Heart Attack Risk Distribution', fontsize=16)\n",
    "plt.xlabel('Heart Attack Risk', fontsize=14)\n",
    "plt.ylabel('Count', fontsize=14)\n",
    "\n",
    "# Add percentage labels\n",
    "total = len(df)\n",
    "for p in ax.patches:\n",
    "    percentage = f'{100 * p.get_height()/total:.1f}%'\n",
    "    x = p.get_x() + p.get_width()/2\n",
    "    y = p.get_height() + 20\n",
    "    ax.annotate(percentage, (x, y), ha='center', fontsize=12)\n",
    "    \n",
    "plt.show()"
   ]
  },
  {
   "cell_type": "markdown",
   "id": "5b6b60e7",
   "metadata": {},
   "source": [
    "Feature Distributions"
   ]
  },
  {
   "cell_type": "code",
   "execution_count": 36,
   "id": "472426f1",
   "metadata": {},
   "outputs": [
    {
     "data": {
      "image/png": "[encoded data removed]",
      "text/plain": [
       "<Figure size 1800x1200 with 6 Axes>"
      ]
     },
     "metadata": {},
     "output_type": "display_data"
    }
   ],
   "source": [
    "# Distribution of key features\n",
    "features = ['Age', 'Cholesterol', 'Blood Pressure', 'Heart Rate', 'Diabetes', 'Obesity']\n",
    "\n",
    "fig, axes = plt.subplots(2, 3, figsize=(18, 12))\n",
    "axes = axes.flatten()\n",
    "\n",
    "for i, feature in enumerate(features):\n",
    "    sns.histplot(\n",
    "        data=df, \n",
    "        x=feature, \n",
    "        hue='Heart Attack Risk', \n",
    "        kde=True,\n",
    "        ax=axes[i], \n",
    "        palette='viridis',\n",
    "        element='step',\n",
    "        stat='density',\n",
    "        common_norm=False\n",
    "    )\n",
    "    axes[i].set_title(f'{feature} Distribution by Risk', fontsize=14)\n",
    "    axes[i].set_xlabel(feature, fontsize=12)\n",
    "    \n",
    "plt.tight_layout()\n",
    "plt.show()"
   ]
  },
  {
   "cell_type": "markdown",
   "id": "b41fef07",
   "metadata": {},
   "source": [
    "Correlation Analysis"
   ]
  },
  {
   "cell_type": "code",
   "execution_count": 37,
   "id": "8cea2502",
   "metadata": {},
   "outputs": [
    {
     "data": {
      "image/png": "[encoded data removed]",
      "text/plain": [
       "<Figure size 1600x1200 with 2 Axes>"
      ]
     },
     "metadata": {},
     "output_type": "display_data"
    }
   ],
   "source": [
    "# Correlation matrix\n",
    "plt.figure(figsize=(16, 12))\n",
    "corr = df.corr(numeric_only=True)\n",
    "mask = np.triu(np.ones_like(corr, dtype=bool))\n",
    "sns.heatmap(\n",
    "    corr, \n",
    "    mask=mask,\n",
    "    annot=True, \n",
    "    fmt=\".2f\", \n",
    "    cmap='coolwarm',\n",
    "    linewidths=0.5,\n",
    "    vmin=-1, \n",
    "    vmax=1\n",
    ")\n",
    "plt.title('Feature Correlation Matrix', fontsize=16)\n",
    "plt.show()"
   ]
  },
  {
   "cell_type": "code",
   "execution_count": 38,
   "id": "77225ff7",
   "metadata": {},
   "outputs": [
    {
     "data": {
      "application/vnd.plotly.v1+json": {
       "config": {
        "plotlyServerURL": "https://plot.ly"
       },
       "data": [
        {
         "hovertemplate": "Heart Attack Risk=%{marker.color}<br>Age=%{x}<br>Cholesterol=%{y}<br>Blood Pressure=%{z}<extra></extra>",
         "legendgroup": "0",
         "marker": {
          "color": {
           "bdata": "AAAAAAAAAAAAAAAAAAAAAAAAAAAAAAAAAAAAAAAAAAAAAAAAAAAAAAAAAAAAAAAAAAAAAAAAAAAAAAAAAAAAAAAAAAAAAAAAAAAAAAAAAAAAAAAAAAAAAAAAAAAAAAAAAAAAAAAAAAAAAAAAAAAAAAAAAAAAAAAAAAAAAAAAAAAAAAAAAAAAAAAAAAAAAAAAAAAAAAAAAAAAAAAAAAAAAAAAAAAAAAAAAAAAAAAAAAAAAAAAAAAAAAAAAAAAAAAAAAAAAAAAAAAAAAAAAAAAAAAAAAAAAAAAAAAAAAAAAAAAAAAAAAAAAAAAAAAAAAAAAAAAAAAAAAAAAAAAAAAAAAAAAAAAAAAAAAAAAAAAAAAAAAAAAAAAAAAAAAAAAAAAAAAAAAAAAAAAAAAAAAAAAAAAAAAAAAAAAAAAAAAAAAAAAAAAAAAAAAAAAAAAAAAAAAAAAAAAAAAAAAAAAAAAAAAAAAAAAAAAAAAAAAAAAAAAAAAAAAAAAAAAAAAAAAAAAAAAAAAAAAAAAAAAAAAAAAAAAAAAAAAAAAAAAAAAAAAAAAAAAAAAAAAAAAAAAAAAAAAAAAAAAAAAAAAAAAAAAAAAAAAAAAAAAAAAAAAAAAAAAAAAAAAAAAAAAAAAAAAAAAAAAAAAAAAAAAAAAAAAAAAAAAAAAAAAAAAAAAAAAAAAAAAAAAAAAAAAAAAAAAAAAAAAAAAAAAAAAAAAAAAAAAAAAAAAAAAAAAAAAAAAAAAAAAAAAAAAAAAAAAAAAAAAAAAAAAAAAAAAAAAAAAAAAAAAAAAAAAAAAAAAAAAAAAAAAAAAAAAAAAAAAAAAAAAAAAAAAAAAAAAAAAAAAAAA",
           "dtype": "i1"
          },
          "coloraxis": "coloraxis",
          "opacity": 0.7,
          "symbol": "circle"
         },
         "mode": "markers",
         "name": "0",
         "scene": "scene",
         "showlegend": true,
         "type": "scatter3d",
         "x": {
          "bdata": "QT8WJxMbRxhVKjU+FhxZREBRNlYZJjIbLlZVJ0dJRBdGSS1YHyUuTSooMyMzVxI4VyhBQBY4T0I6UEUoE1gZIDw3E0woU0IVM1k7Uh8oUy0WTk0WREZQMlBEQipAVx9EJSU/MDYbG1RHFDU0HjwzPiRDLC5TWkxUL0xKMRI2OywwHU82KTlJUj8uGD4zQ0VUISASVTtNH1QXIEQrVB0uKE8jNRNYF0E2Tk89LSw4OlZSJ0Q/QT9ZQidRLFMqMjY0PyAkHUoiQzZDVxsmMRZEVUwgJiowNBo4E0UcVVpLQzIXHk8VGCESQlFCHBZOT1khKxw4O1BMOSxUG1AhKUg5FkI7WRpSIzIYOCE3GC4mOEwpMkMrURIoMz0gWRYTGEU3LUBTLhhHUhdHUh1KWj5RVkQ/Nk48RBRKNiEfUD9AMkE0KjYWWlhRTBQcMURYUiZAGzEuTStFWjEZPigSRUY9G0stJT5GNSoVVRgiQ1IpRFQYJEVHND8pHDIZHEhFJyRAWVoYWjkyRhdZKSM+LVREWlkrEyUfWUdOJxQ2I0AfNj8kOSpaKR1AOixHOiVRNR4zUSVYKRcTQ0wYKjE5WSQoO1VXU1g7UjgtICMURS0fSVZOQTITNxssJiNOOB1UIiAzIxckFEFNWjwwTR9YNx4bKlEqHURBPC8xHiZMHlMSHkobLTdRJCdGORInRiUXEx88O0QZIUosLR4hQy4tSSgkITlUShISRjlCGz8bGSYaKyUuMRtPPCY3WiwyJBxaKSctUiBCTUEwMRwvKTZSMUw8P0YfWDYkGlNBUCxMWRgYLUMyUlceTRpOGUAYSTI2MhUmPVpKTSMmWTEcWBYXFCdI",
          "dtype": "i1"
         },
         "y": {
          "bdata": "VAGtAGUBtwAoAeAA8wDEAAUBFQE/AQoBvQDCAIEBcQGkAGcBYgHiAKIAiQF4AR0BXQHEAJUA8QAIAf8ATwEsAZwAbwGmAAoB8gBqAW4BXgG4AEYBhgEBAX0BbAHAADoB8gCRAB0BlgCkACwBQgFJAQUBZgFHAZ4A7AApAX8B+gAQAXsB6wCxAF8B8ADDAPoArgBcAdQAtABoASQBAgF/AH0AhAGCAKcAAQEmAQwBiwHAAE0BNQGPAJwAjQB9AQYB2gAYAZ8AjQF7AXoAbQEVASgBiwCkAB4BmQCKAP0AjQDIAH0ANwHWAFMBfAAeAW8BwACbANUA1QB+AZEAOAFxAa4AyQDwANAAewEWAf0AKQHIAPYATQH+AI8AdQGCAVYBlQCWAO0AzwCBAToBXgFHAXsBmAAUASwBygBNAQoBjAGKAXABmgAvAeEA2gCyAHMBOgGhAEoBGwHyAIcBwgB3AcoA3AApAToBzQCDAPcAxgC1AMkACQEoATkBnADAAKwAFwGHAHQBCAEVAYAB/ABJAQkBKgF/AKYAfAEaAYQA1wAaAS8BQwFXAckAAAG5ABsBCQFnAWgBJgEVAcMAfgCHAPwABgGPAesAEgHSAIQAzQCOABkBJQEuAVwB9wD6AMAAgQGfACgBigEHAYgATAH2AOsAVwFIAVcB8QCgABQBHQGzAOcApwDyAM8AnwDNAH4BTgGkAIMBhgCKAUEBBwHnAIEAngD9ADUBJgEUAesAAgGHABAB2wASAXQBOwFaAZEAggB6AYIBwABMAXcByADdAOoA/QAZAesAAAFQATQB6wCCAFAB/AAAAZEA7AB/AAoBcwF1AS0BbwFmAXIBNgEbAUMBQAHYAGQBeQEnAYcAGQGRABQBeQHDAFUBIQFoAZABGAERATEBbgFbARIB0gDBAPAAxwCCAIwB0wAhAbIAugChAMsAjgFTAeIA/QDCAM4AYQGmAP8AIgGbAPoAhQCPAa4AtQCoAKkAQAGIAeoA+gBOAXcBjQB5AQoBWQFqAYcBxQCDAZgAjwAUAdAA1QDjAKgA+gAiAdcAlACRAGMBkgCHACUBVwHnACsBJAE0AaUA7ADxACQBZAGYAP8A7gA+AUsBkAGlAH0BnQBiAVQBegBYAZ4AqwC2AJEAxwDVACAB0wBVAf0A2QC/ALsAhgG0AIMBQQHYAP4ApgAUATkBfAGdAKcADQGFAREBwgCtALkAcQE4AWkBEwHiAHsBqADFAIgA5ACIAaQA3QDuAEYB9wArARMBtAAQAR8BDgH7APQAGQHEALIAPwHhAH8BbgHsAHkAHwE5AZIAoQChAEcBWAE2AXQBIQHUAJYABQHYAMsAUgGxAGoBqgDDAMgAIgHaADMBQAFjARIBfAC+ANcAyQB9Af8AMAGFAI8B7gCcAI4AegHSAFYBQgHXAPoA8QCFAesAzQC7AL0AYgHdALsAoQBFAUcBAAHpAK8AewAjATIBZwGzAKUATAHNAGgBMAECATYBKQG5ANsAHwF8AZEAzQCPAfUAiwAmAU4BggAFAWYBcQGGAXYBkQCSAHoB5wATAawA+gB8AFIBDQEjAXgADQEHAX0ASQFXAVMBdQFrASsBhACOADABvABXAYEBaAFLAbkAZQHCAEYBtAAGAc0AXAGcAPQAngCPAQUBNwGDAXQBTQH1AD8B6gDwAIoBxwBmAQMB3gDjAK0AyAD2AKMA",
          "dtype": "i2"
         },
         "z": [
          "124/68",
          "103/109",
          "102/105",
          "97/102",
          "175/103",
          "151/68",
          "111/73",
          "150/95",
          "179/104",
          "94/88",
          "173/73",
          "106/108",
          "122/86",
          "146/107",
          "168/69",
          "111/83",
          "173/77",
          "127/106",
          "166/100",
          "123/106",
          "134/70",
          "174/60",
          "127/90",
          "146/104",
          "111/93",
          "93/101",
          "104/103",
          "146/71",
          "102/89",
          "104/92",
          "128/86",
          "174/87",
          "90/110",
          "148/99",
          "98/60",
          "125/80",
          "104/70",
          "113/102",
          "91/65",
          "118/84",
          "114/110",
          "143/66",
          "105/98",
          "130/72",
          "134/105",
          "132/68",
          "105/96",
          "92/81",
          "164/80",
          "172/104",
          "117/82",
          "100/97",
          "124/77",
          "111/76",
          "122/76",
          "139/93",
          "124/89",
          "127/103",
          "146/94",
          "176/93",
          "177/69",
          "112/81",
          "158/101",
          "92/88",
          "120/73",
          "133/98",
          "105/91",
          "150/89",
          "176/62",
          "165/79",
          "148/85",
          "109/76",
          "155/91",
          "120/90",
          "147/62",
          "138/102",
          "155/95",
          "174/69",
          "106/82",
          "165/105",
          "152/105",
          "134/89",
          "131/76",
          "177/85",
          "108/68",
          "129/63",
          "115/100",
          "167/70",
          "147/64",
          "106/96",
          "120/71",
          "142/68",
          "172/76",
          "142/85",
          "103/105",
          "121/93",
          "132/99",
          "140/97",
          "160/75",
          "111/78",
          "136/62",
          "114/65",
          "122/100",
          "115/83",
          "106/86",
          "133/110",
          "140/98",
          "103/104",
          "176/64",
          "159/98",
          "139/96",
          "130/77",
          "102/93",
          "164/74",
          "173/96",
          "176/77",
          "126/81",
          "179/69",
          "178/68",
          "161/67",
          "94/105",
          "170/67",
          "132/103",
          "158/73",
          "104/85",
          "134/106",
          "96/103",
          "144/82",
          "119/70",
          "134/60",
          "116/76",
          "98/77",
          "136/100",
          "173/60",
          "166/106",
          "145/104",
          "164/89",
          "175/97",
          "123/96",
          "121/77",
          "139/87",
          "94/80",
          "92/94",
          "164/83",
          "173/72",
          "142/78",
          "159/77",
          "166/86",
          "165/101",
          "140/98",
          "146/80",
          "104/101",
          "129/76",
          "145/107",
          "128/95",
          "142/86",
          "173/109",
          "128/69",
          "117/97",
          "102/76",
          "160/67",
          "121/66",
          "118/95",
          "148/61",
          "110/96",
          "130/81",
          "134/100",
          "171/105",
          "150/60",
          "147/94",
          "101/101",
          "107/82",
          "122/90",
          "105/92",
          "164/74",
          "99/85",
          "168/63",
          "165/71",
          "117/78",
          "93/71",
          "176/106",
          "124/94",
          "98/103",
          "95/99",
          "99/80",
          "141/87",
          "167/105",
          "131/98",
          "145/99",
          "158/79",
          "141/75",
          "149/82",
          "166/109",
          "130/82",
          "144/103",
          "117/87",
          "104/76",
          "91/72",
          "100/110",
          "123/74",
          "171/68",
          "115/63",
          "90/61",
          "120/74",
          "123/93",
          "127/93",
          "102/68",
          "176/103",
          "113/91",
          "127/98",
          "113/78",
          "178/110",
          "126/90",
          "105/74",
          "140/71",
          "99/106",
          "117/99",
          "99/82",
          "155/77",
          "175/83",
          "165/85",
          "163/61",
          "113/81",
          "135/65",
          "180/102",
          "100/86",
          "175/83",
          "142/95",
          "157/104",
          "102/69",
          "134/93",
          "142/72",
          "178/64",
          "155/102",
          "176/100",
          "176/77",
          "151/88",
          "143/92",
          "95/108",
          "172/96",
          "162/79",
          "106/61",
          "154/102",
          "119/108",
          "126/84",
          "108/100",
          "120/74",
          "180/67",
          "97/91",
          "150/110",
          "179/93",
          "128/60",
          "127/97",
          "137/68",
          "103/73",
          "165/65",
          "131/91",
          "154/101",
          "106/76",
          "172/75",
          "102/100",
          "171/76",
          "121/67",
          "140/83",
          "145/62",
          "123/98",
          "168/90",
          "94/90",
          "134/75",
          "95/90",
          "120/65",
          "162/96",
          "92/108",
          "127/85",
          "172/95",
          "90/77",
          "167/87",
          "110/63",
          "129/64",
          "162/92",
          "175/72",
          "110/65",
          "150/102",
          "155/74",
          "99/105",
          "150/72",
          "101/84",
          "168/106",
          "96/94",
          "94/70",
          "90/70",
          "90/75",
          "177/82",
          "94/87",
          "126/109",
          "147/98",
          "106/95",
          "141/98",
          "177/110",
          "166/76",
          "154/88",
          "142/89",
          "140/102",
          "109/86",
          "164/80",
          "162/67",
          "92/84",
          "109/60",
          "160/98",
          "99/102",
          "142/81",
          "102/83",
          "175/97",
          "124/83",
          "130/72",
          "146/84",
          "102/79",
          "166/77",
          "104/74",
          "131/69",
          "97/60",
          "98/67",
          "114/92",
          "170/85",
          "151/60",
          "136/107",
          "90/68",
          "168/76",
          "144/105",
          "92/71",
          "174/106",
          "164/108",
          "142/78",
          "164/105",
          "161/96",
          "169/60",
          "104/94",
          "96/75",
          "93/88",
          "94/66",
          "110/95",
          "100/104",
          "179/105",
          "171/96",
          "148/83",
          "161/94",
          "142/99",
          "173/99",
          "96/104",
          "112/94",
          "142/79",
          "162/104",
          "134/100",
          "156/106",
          "143/69",
          "133/71",
          "178/66",
          "94/70",
          "167/87",
          "152/74",
          "118/106",
          "133/67",
          "165/83",
          "138/78",
          "108/78",
          "143/97",
          "126/62",
          "180/89",
          "134/104",
          "119/82",
          "170/60",
          "176/82",
          "128/66",
          "141/90",
          "168/99",
          "135/93",
          "135/94",
          "124/76",
          "155/96",
          "104/72",
          "146/101",
          "162/81",
          "149/97",
          "96/85",
          "121/69",
          "132/105",
          "171/75",
          "170/101",
          "156/78",
          "138/82",
          "153/83",
          "134/79",
          "119/89",
          "90/78",
          "126/86",
          "94/81",
          "104/60",
          "96/83",
          "138/96",
          "99/78",
          "116/109",
          "106/71",
          "152/66",
          "102/100",
          "179/70",
          "178/107",
          "115/109",
          "102/101",
          "174/71",
          "158/107",
          "149/93",
          "125/65",
          "94/77",
          "158/61",
          "180/82",
          "170/81",
          "117/74",
          "111/62",
          "92/109",
          "133/92",
          "124/94",
          "105/89",
          "118/70",
          "143/107",
          "155/95",
          "172/69",
          "114/94",
          "121/63",
          "118/83",
          "102/87",
          "152/80",
          "92/69",
          "93/109",
          "94/73",
          "137/72",
          "128/97",
          "98/87",
          "117/96",
          "120/98",
          "101/64",
          "106/101",
          "174/75",
          "166/109",
          "171/61",
          "152/107",
          "175/69",
          "148/103",
          "134/68",
          "117/72",
          "93/70",
          "103/66",
          "167/109",
          "115/100",
          "160/91",
          "110/94",
          "130/84",
          "154/78",
          "93/71",
          "172/60",
          "156/61",
          "179/63",
          "166/87",
          "153/100",
          "141/73",
          "112/66",
          "169/70",
          "140/71",
          "94/61",
          "107/106",
          "114/109",
          "116/87",
          "125/77",
          "120/101",
          "126/74",
          "173/108",
          "150/68",
          "165/105",
          "152/97",
          "160/64",
          "140/89",
          "122/64",
          "118/63",
          "119/67",
          "132/73",
          "96/104",
          "118/90",
          "176/97",
          "158/70",
          "171/106",
          "160/63",
          "140/102",
          "157/97",
          "130/89",
          "93/65",
          "100/105",
          "133/94",
          "173/87",
          "122/89",
          "152/106",
          "164/73",
          "152/99",
          "155/81",
          "139/66",
          "112/60",
          "134/89",
          "104/63",
          "117/108",
          "150/62",
          "125/85",
          "139/86",
          "121/81",
          "121/84",
          "123/72",
          "155/104",
          "162/110",
          "171/110",
          "145/65",
          "91/83",
          "101/73",
          "124/107",
          "126/68",
          "160/70",
          "110/63",
          "156/82",
          "138/110",
          "164/81",
          "136/77",
          "113/86",
          "93/78",
          "167/69",
          "109/85",
          "156/84",
          "175/75",
          "101/98",
          "98/71",
          "162/67",
          "172/75",
          "169/110",
          "101/75",
          "110/79",
          "141/89",
          "149/107",
          "108/108",
          "123/105",
          "141/106",
          "103/69",
          "136/72",
          "136/93",
          "170/99",
          "157/98",
          "128/109",
          "160/60",
          "180/97",
          "138/67",
          "115/101",
          "139/93",
          "140/110",
          "123/83",
          "150/104",
          "95/82",
          "161/85",
          "158/88",
          "135/98",
          "118/75",
          "155/64",
          "91/88",
          "162/72",
          "163/102",
          "119/96",
          "114/100",
          "116/83",
          "102/104",
          "123/90",
          "152/86",
          "140/85",
          "159/87",
          "117/81",
          "129/65",
          "160/93",
          "102/62",
          "144/92",
          "158/66",
          "155/100",
          "139/83",
          "108/98",
          "169/69",
          "98/91",
          "179/104",
          "101/103",
          "107/83",
          "176/71",
          "110/76",
          "109/88",
          "174/81",
          "128/63",
          "118/98",
          "151/79",
          "97/100",
          "101/71",
          "147/61",
          "142/107",
          "154/63",
          "96/98",
          "141/66",
          "131/71",
          "162/82",
          "148/89",
          "100/89",
          "134/98",
          "137/102",
          "133/107",
          "167/92",
          "121/110",
          "161/100",
          "91/66",
          "157/89",
          "166/70",
          "125/84",
          "159/76",
          "90/64",
          "132/93",
          "130/68",
          "115/73",
          "125/102",
          "116/66",
          "173/65",
          "107/75",
          "135/61",
          "148/70",
          "94/109",
          "95/85",
          "167/96",
          "93/85",
          "101/80",
          "141/70",
          "124/69",
          "101/85",
          "141/64",
          "159/91"
         ]
        },
        {
         "hovertemplate": "Heart Attack Risk=%{marker.color}<br>Age=%{x}<br>Cholesterol=%{y}<br>Blood Pressure=%{z}<extra></extra>",
         "legendgroup": "1",
         "marker": {
          "color": {
           "bdata": "AQEBAQEBAQEBAQEBAQEBAQEBAQEBAQEBAQEBAQEBAQEBAQEBAQEBAQEBAQEBAQEBAQEBAQEBAQEBAQEBAQEBAQEBAQEBAQEBAQEBAQEBAQEBAQEBAQEBAQEBAQEBAQEBAQEBAQEBAQEBAQEBAQEBAQEBAQEBAQEBAQEBAQEBAQEBAQEBAQEBAQEBAQEBAQEBAQEBAQEBAQEBAQEBAQEBAQEBAQEBAQEBAQEBAQEBAQEBAQEBAQEBAQEBAQEBAQEBAQEBAQEBAQEBAQEBAQEBAQEBAQEBAQEBAQEBAQEBAQEBAQEBAQEBAQEBAQEBAQEBAQEBAQEBAQEBAQEBAQEBAQEBAQEBAQEBAQEBAQEBAQEBAQEBAQEBAQEBAQEBAQEBAQEBAQEBAQEBAQEBAQEBAQEBAQEBAQEBAQEBAQEBAQEBAQEBAQEBAQEBAQEBAQEBAQEBAQEBAQEBAQEBAQEBAQEBAQEBAQEBAQ==",
           "dtype": "i1"
          },
          "coloraxis": "coloraxis",
          "opacity": 0.7,
          "symbol": "diamond"
         },
         "mode": "markers",
         "name": "1",
         "scene": "scene",
         "showlegend": true,
         "type": "scatter3d",
         "x": {
          "bdata": "TUYvMjweEkI9Gh1TJT5LOUonTBYfFFcTSkYtUhk7NFpGHhZBQzwnLVQrTTwmJkkdRVNWGDQ4PSNZFhhARh0hNxlVG01FHTs/KTY+KUwZIyoTGD4zLkdIMCc9QSoeGFlYGzJZHzsoP08SVEAlTlMbVTMjL1McEihBKxUSJCopRFEqNxYtGlBUSCQ3NSshIxkuMFQpKi5LKBIkQTxXK00yMVVLGEpBM1Y9WT8TQEIbLiM2TDUpGRhZVFcoHBNHOUUyKlobMjFGGxolWSI0TDkrUiUSF1YxQUw5WkMSISxAQEMYHTcmMCtXFS0fMBU8Hi4cRDAjLC0XOTtNFlU/FEYyO1JaO1Y/NTpPFDohWB0nGScVN0oZKUAcJVUiJ1Y7JjFZKCZPUzVaJicqPVAzLT07HipEKB8uG1cmSTUwNlcbKT4YSFc9IVBJPyYmHlJLMDApHThBFiYfF1pCOigbWCctQTBBQ1VEQU5XGg==",
          "dtype": "i1"
         },
         "y": {
          "bdata": "aQFVAYgB0AD3ALwAVwFKAckA5AAQAbEA5QAiAYUAVgF6ASsBVAF4AaoAfwB2AXEBWQHzAIwBLAF5AfcAigHzANoAPQHeAKcAgAC2AAcB5AD3AIMBYgGHAIQB+ABKAZAAjQB6AG8BaAHfAMAADwHqAP4AWwGzAPUACQGQAF4BgwHqAEUBPwF9AbgALwELAc4AMwHMAMcAsAC7AOwAOQGEACQBGgEwAdoA8ACcACUB2wDcAIoAygDoAKcAgAG5AH4A4QDDADwBDgEzAecAewF/AXsAOQHgAEIBfgFQAfgALQHfAPEAMAGhAOcAVAFPATQBSQGEAPEA0QAUARwBDAH9AGIBpQB+APoAfgHBAIUBsgDaAF0BdgGjAPAAewFxAX0AjwAmAa8AXAHCAAAB4wAIAXkBeABkAeAA/gCsANEAFgEQAf4ApQAMAX4BhwB/AFgBDwHGAIgBdQEKAfkA2QCLAe8AFwEoAdQAigGsACABVwHWAOwAqgBwAagADQHhACABvgCFAMcAZAECARIBAAFcAXIB9wB7AWoBgAG5AJ0AhgFZAZ8AMgF6AdcAcgFNAdoAwwBEAU0B1wBAAT0BuQDGANEAxACnAGsB+QDIAPoAWwHqAKEAAQGMADIBowAiASEBEwGHAX0BXgFDAQIBeABpAScBFwHvAMoAuwAxAVsBIAGHAEkB6ADaADIBhwAcAc4AigD6AKAAYAHXAKYAoABGAb4AKwH1AO4AvQDUAOsAzQC2AKkACAEoAXIBbAFpAZoAawFEAY0B2gAEAQQBNQFrAXwBlwAfAdkAMQGVALAA/gB2AeUAogCmAPQAuABvAc4AbQFIAaAA8gA6AYcBugAcAcAAjABYAfwAFwF1AYMAmQC6AEwBcgGmAH0AYgErAaYA3gBkAVsBDAFqAdYA7wD9ABcBTQGMAXkBcwEkAWgBCQF0AYUBUwFOAR8BiAEIAS0BewA=",
          "dtype": "i2"
         },
         "z": [
          "177/104",
          "156/84",
          "155/75",
          "154/92",
          "154/107",
          "168/82",
          "98/88",
          "98/110",
          "132/69",
          "145/62",
          "112/80",
          "165/68",
          "162/79",
          "140/81",
          "119/82",
          "177/66",
          "175/89",
          "164/65",
          "156/103",
          "171/76",
          "164/64",
          "134/85",
          "150/96",
          "101/107",
          "127/68",
          "104/93",
          "109/74",
          "117/96",
          "176/65",
          "180/101",
          "143/63",
          "104/72",
          "149/96",
          "91/103",
          "128/88",
          "104/97",
          "171/70",
          "176/84",
          "108/104",
          "131/75",
          "154/99",
          "141/60",
          "146/81",
          "119/64",
          "167/90",
          "130/97",
          "135/96",
          "166/102",
          "134/70",
          "113/71",
          "141/74",
          "120/103",
          "173/106",
          "119/101",
          "144/92",
          "98/91",
          "154/86",
          "115/87",
          "173/90",
          "107/95",
          "111/108",
          "110/84",
          "114/78",
          "145/107",
          "106/69",
          "115/61",
          "96/99",
          "169/93",
          "93/72",
          "176/76",
          "178/96",
          "159/102",
          "157/62",
          "115/66",
          "97/62",
          "158/68",
          "148/104",
          "180/60",
          "161/97",
          "110/78",
          "112/67",
          "153/90",
          "131/70",
          "131/75",
          "174/68",
          "117/109",
          "169/69",
          "115/74",
          "99/76",
          "115/86",
          "134/74",
          "158/68",
          "175/76",
          "110/79",
          "146/86",
          "160/93",
          "157/73",
          "104/81",
          "151/110",
          "155/76",
          "114/69",
          "126/97",
          "163/110",
          "102/77",
          "155/61",
          "170/85",
          "179/62",
          "104/80",
          "176/69",
          "110/81",
          "91/69",
          "179/97",
          "164/81",
          "101/75",
          "131/74",
          "179/70",
          "175/85",
          "156/63",
          "132/62",
          "105/96",
          "172/67",
          "116/61",
          "160/61",
          "158/102",
          "92/87",
          "103/93",
          "162/78",
          "101/74",
          "121/101",
          "147/103",
          "157/107",
          "111/66",
          "171/99",
          "169/90",
          "165/83",
          "173/94",
          "114/89",
          "119/70",
          "121/103",
          "116/67",
          "151/76",
          "91/82",
          "158/108",
          "98/109",
          "134/90",
          "139/89",
          "110/65",
          "133/83",
          "156/108",
          "113/109",
          "148/83",
          "99/105",
          "143/74",
          "138/81",
          "159/63",
          "107/67",
          "128/106",
          "122/97",
          "110/106",
          "98/93",
          "162/65",
          "142/96",
          "136/68",
          "115/63",
          "125/101",
          "133/107",
          "113/107",
          "143/108",
          "129/71",
          "149/95",
          "149/110",
          "110/73",
          "176/87",
          "148/68",
          "160/79",
          "164/86",
          "161/95",
          "158/101",
          "153/109",
          "172/105",
          "131/94",
          "127/91",
          "178/82",
          "157/100",
          "123/65",
          "178/74",
          "135/83",
          "161/70",
          "93/108",
          "142/93",
          "90/97",
          "119/93",
          "142/98",
          "146/88",
          "179/99",
          "138/102",
          "140/110",
          "126/92",
          "161/71",
          "153/104",
          "105/74",
          "172/83",
          "157/90",
          "180/101",
          "101/93",
          "158/89",
          "102/93",
          "161/95",
          "166/60",
          "158/67",
          "114/68",
          "119/63",
          "153/90",
          "112/87",
          "99/69",
          "114/67",
          "142/105",
          "149/101",
          "117/77",
          "129/102",
          "169/93",
          "165/62",
          "173/83",
          "107/87",
          "177/82",
          "153/88",
          "158/95",
          "116/90",
          "171/86",
          "165/77",
          "100/92",
          "149/89",
          "142/97",
          "94/86",
          "109/76",
          "141/96",
          "113/64",
          "92/82",
          "107/108",
          "125/93",
          "159/98",
          "130/95",
          "134/94",
          "137/79",
          "117/91",
          "99/71",
          "180/75",
          "91/94",
          "105/65",
          "176/61",
          "126/93",
          "171/80",
          "174/82",
          "125/80",
          "166/71",
          "162/70",
          "120/98",
          "92/79",
          "167/87",
          "110/103",
          "91/107",
          "154/108",
          "169/93",
          "134/63",
          "108/106",
          "126/73",
          "97/69",
          "141/92",
          "95/74",
          "164/110",
          "98/104",
          "155/104",
          "130/78",
          "158/96",
          "147/69",
          "136/76",
          "177/95",
          "119/77",
          "113/76",
          "140/80",
          "94/86",
          "114/96",
          "146/64",
          "103/87",
          "172/81",
          "162/101",
          "94/80",
          "117/103",
          "126/87",
          "132/61",
          "141/77",
          "101/86",
          "100/83",
          "133/68",
          "155/92",
          "147/96",
          "125/83",
          "91/92",
          "98/67",
          "180/81",
          "180/98",
          "165/74",
          "97/64",
          "141/81",
          "125/107",
          "158/109",
          "98/76",
          "100/91",
          "145/90",
          "147/104",
          "160/82",
          "162/109",
          "97/63",
          "150/90",
          "164/70",
          "122/73",
          "160/102",
          "172/64",
          "170/73",
          "157/100",
          "161/67",
          "153/89",
          "160/105",
          "105/99",
          "140/64",
          "135/97",
          "157/85",
          "131/76",
          "157/100",
          "147/66",
          "121/94",
          "170/90",
          "179/90",
          "129/110",
          "99/82",
          "164/74",
          "177/65",
          "144/106",
          "98/71",
          "99/70",
          "173/95",
          "94/98",
          "143/87",
          "96/63",
          "126/88",
          "104/98",
          "151/106",
          "164/77",
          "124/66",
          "134/71",
          "168/91",
          "105/87",
          "121/102",
          "120/81",
          "150/81",
          "121/68",
          "164/97",
          "178/77",
          "127/78",
          "177/102",
          "148/86"
         ]
        }
       ],
       "layout": {
        "coloraxis": {
         "colorbar": {
          "title": {
           "text": "Heart Attack Risk"
          }
         },
         "colorscale": [
          [
           0,
           "#440154"
          ],
          [
           0.1111111111111111,
           "#482878"
          ],
          [
           0.2222222222222222,
           "#3e4989"
          ],
          [
           0.3333333333333333,
           "#31688e"
          ],
          [
           0.4444444444444444,
           "#26828e"
          ],
          [
           0.5555555555555556,
           "#1f9e89"
          ],
          [
           0.6666666666666666,
           "#35b779"
          ],
          [
           0.7777777777777778,
           "#6ece58"
          ],
          [
           0.8888888888888888,
           "#b5de2b"
          ],
          [
           1,
           "#fde725"
          ]
         ]
        },
        "height": 800,
        "legend": {
         "title": {
          "text": "Heart Attack Risk"
         },
         "tracegroupgap": 0
        },
        "margin": {
         "b": 0,
         "l": 0,
         "r": 0,
         "t": 0
        },
        "scene": {
         "domain": {
          "x": [
           0,
           1
          ],
          "y": [
           0,
           1
          ]
         },
         "xaxis": {
          "title": {
           "text": "Age"
          }
         },
         "yaxis": {
          "title": {
           "text": "Cholesterol"
          }
         },
         "zaxis": {
          "title": {
           "text": "Blood Pressure"
          }
         }
        },
        "template": {
         "data": {
          "bar": [
           {
            "error_x": {
             "color": "#2a3f5f"
            },
            "error_y": {
             "color": "#2a3f5f"
            },
            "marker": {
             "line": {
              "color": "#E5ECF6",
              "width": 0.5
             },
             "pattern": {
              "fillmode": "overlay",
              "size": 10,
              "solidity": 0.2
             }
            },
            "type": "bar"
           }
          ],
          "barpolar": [
           {
            "marker": {
             "line": {
              "color": "#E5ECF6",
              "width": 0.5
             },
             "pattern": {
              "fillmode": "overlay",
              "size": 10,
              "solidity": 0.2
             }
            },
            "type": "barpolar"
           }
          ],
          "carpet": [
           {
            "aaxis": {
             "endlinecolor": "#2a3f5f",
             "gridcolor": "white",
             "linecolor": "white",
             "minorgridcolor": "white",
             "startlinecolor": "#2a3f5f"
            },
            "baxis": {
             "endlinecolor": "#2a3f5f",
             "gridcolor": "white",
             "linecolor": "white",
             "minorgridcolor": "white",
             "startlinecolor": "#2a3f5f"
            },
            "type": "carpet"
           }
          ],
          "choropleth": [
           {
            "colorbar": {
             "outlinewidth": 0,
             "ticks": ""
            },
            "type": "choropleth"
           }
          ],
          "contour": [
           {
            "colorbar": {
             "outlinewidth": 0,
             "ticks": ""
            },
            "colorscale": [
             [
              0,
              "#0d0887"
             ],
             [
              0.1111111111111111,
              "#46039f"
             ],
             [
              0.2222222222222222,
              "#7201a8"
             ],
             [
              0.3333333333333333,
              "#9c179e"
             ],
             [
              0.4444444444444444,
              "#bd3786"
             ],
             [
              0.5555555555555556,
              "#d8576b"
             ],
             [
              0.6666666666666666,
              "#ed7953"
             ],
             [
              0.7777777777777778,
              "#fb9f3a"
             ],
             [
              0.8888888888888888,
              "#fdca26"
             ],
             [
              1,
              "#f0f921"
             ]
            ],
            "type": "contour"
           }
          ],
          "contourcarpet": [
           {
            "colorbar": {
             "outlinewidth": 0,
             "ticks": ""
            },
            "type": "contourcarpet"
           }
          ],
          "heatmap": [
           {
            "colorbar": {
             "outlinewidth": 0,
             "ticks": ""
            },
            "colorscale": [
             [
              0,
              "#0d0887"
             ],
             [
              0.1111111111111111,
              "#46039f"
             ],
             [
              0.2222222222222222,
              "#7201a8"
             ],
             [
              0.3333333333333333,
              "#9c179e"
             ],
             [
              0.4444444444444444,
              "#bd3786"
             ],
             [
              0.5555555555555556,
              "#d8576b"
             ],
             [
              0.6666666666666666,
              "#ed7953"
             ],
             [
              0.7777777777777778,
              "#fb9f3a"
             ],
             [
              0.8888888888888888,
              "#fdca26"
             ],
             [
              1,
              "#f0f921"
             ]
            ],
            "type": "heatmap"
           }
          ],
          "histogram": [
           {
            "marker": {
             "pattern": {
              "fillmode": "overlay",
              "size": 10,
              "solidity": 0.2
             }
            },
            "type": "histogram"
           }
          ],
          "histogram2d": [
           {
            "colorbar": {
             "outlinewidth": 0,
             "ticks": ""
            },
            "colorscale": [
             [
              0,
              "#0d0887"
             ],
             [
              0.1111111111111111,
              "#46039f"
             ],
             [
              0.2222222222222222,
              "#7201a8"
             ],
             [
              0.3333333333333333,
              "#9c179e"
             ],
             [
              0.4444444444444444,
              "#bd3786"
             ],
             [
              0.5555555555555556,
              "#d8576b"
             ],
             [
              0.6666666666666666,
              "#ed7953"
             ],
             [
              0.7777777777777778,
              "#fb9f3a"
             ],
             [
              0.8888888888888888,
              "#fdca26"
             ],
             [
              1,
              "#f0f921"
             ]
            ],
            "type": "histogram2d"
           }
          ],
          "histogram2dcontour": [
           {
            "colorbar": {
             "outlinewidth": 0,
             "ticks": ""
            },
            "colorscale": [
             [
              0,
              "#0d0887"
             ],
             [
              0.1111111111111111,
              "#46039f"
             ],
             [
              0.2222222222222222,
              "#7201a8"
             ],
             [
              0.3333333333333333,
              "#9c179e"
             ],
             [
              0.4444444444444444,
              "#bd3786"
             ],
             [
              0.5555555555555556,
              "#d8576b"
             ],
             [
              0.6666666666666666,
              "#ed7953"
             ],
             [
              0.7777777777777778,
              "#fb9f3a"
             ],
             [
              0.8888888888888888,
              "#fdca26"
             ],
             [
              1,
              "#f0f921"
             ]
            ],
            "type": "histogram2dcontour"
           }
          ],
          "mesh3d": [
           {
            "colorbar": {
             "outlinewidth": 0,
             "ticks": ""
            },
            "type": "mesh3d"
           }
          ],
          "parcoords": [
           {
            "line": {
             "colorbar": {
              "outlinewidth": 0,
              "ticks": ""
             }
            },
            "type": "parcoords"
           }
          ],
          "pie": [
           {
            "automargin": true,
            "type": "pie"
           }
          ],
          "scatter": [
           {
            "fillpattern": {
             "fillmode": "overlay",
             "size": 10,
             "solidity": 0.2
            },
            "type": "scatter"
           }
          ],
          "scatter3d": [
           {
            "line": {
             "colorbar": {
              "outlinewidth": 0,
              "ticks": ""
             }
            },
            "marker": {
             "colorbar": {
              "outlinewidth": 0,
              "ticks": ""
             }
            },
            "type": "scatter3d"
           }
          ],
          "scattercarpet": [
           {
            "marker": {
             "colorbar": {
              "outlinewidth": 0,
              "ticks": ""
             }
            },
            "type": "scattercarpet"
           }
          ],
          "scattergeo": [
           {
            "marker": {
             "colorbar": {
              "outlinewidth": 0,
              "ticks": ""
             }
            },
            "type": "scattergeo"
           }
          ],
          "scattergl": [
           {
            "marker": {
             "colorbar": {
              "outlinewidth": 0,
              "ticks": ""
             }
            },
            "type": "scattergl"
           }
          ],
          "scattermap": [
           {
            "marker": {
             "colorbar": {
              "outlinewidth": 0,
              "ticks": ""
             }
            },
            "type": "scattermap"
           }
          ],
          "scattermapbox": [
           {
            "marker": {
             "colorbar": {
              "outlinewidth": 0,
              "ticks": ""
             }
            },
            "type": "scattermapbox"
           }
          ],
          "scatterpolar": [
           {
            "marker": {
             "colorbar": {
              "outlinewidth": 0,
              "ticks": ""
             }
            },
            "type": "scatterpolar"
           }
          ],
          "scatterpolargl": [
           {
            "marker": {
             "colorbar": {
              "outlinewidth": 0,
              "ticks": ""
             }
            },
            "type": "scatterpolargl"
           }
          ],
          "scatterternary": [
           {
            "marker": {
             "colorbar": {
              "outlinewidth": 0,
              "ticks": ""
             }
            },
            "type": "scatterternary"
           }
          ],
          "surface": [
           {
            "colorbar": {
             "outlinewidth": 0,
             "ticks": ""
            },
            "colorscale": [
             [
              0,
              "#0d0887"
             ],
             [
              0.1111111111111111,
              "#46039f"
             ],
             [
              0.2222222222222222,
              "#7201a8"
             ],
             [
              0.3333333333333333,
              "#9c179e"
             ],
             [
              0.4444444444444444,
              "#bd3786"
             ],
             [
              0.5555555555555556,
              "#d8576b"
             ],
             [
              0.6666666666666666,
              "#ed7953"
             ],
             [
              0.7777777777777778,
              "#fb9f3a"
             ],
             [
              0.8888888888888888,
              "#fdca26"
             ],
             [
              1,
              "#f0f921"
             ]
            ],
            "type": "surface"
           }
          ],
          "table": [
           {
            "cells": {
             "fill": {
              "color": "#EBF0F8"
             },
             "line": {
              "color": "white"
             }
            },
            "header": {
             "fill": {
              "color": "#C8D4E3"
             },
             "line": {
              "color": "white"
             }
            },
            "type": "table"
           }
          ]
         },
         "layout": {
          "annotationdefaults": {
           "arrowcolor": "#2a3f5f",
           "arrowhead": 0,
           "arrowwidth": 1
          },
          "autotypenumbers": "strict",
          "coloraxis": {
           "colorbar": {
            "outlinewidth": 0,
            "ticks": ""
           }
          },
          "colorscale": {
           "diverging": [
            [
             0,
             "#8e0152"
            ],
            [
             0.1,
             "#c51b7d"
            ],
            [
             0.2,
             "#de77ae"
            ],
            [
             0.3,
             "#f1b6da"
            ],
            [
             0.4,
             "#fde0ef"
            ],
            [
             0.5,
             "#f7f7f7"
            ],
            [
             0.6,
             "#e6f5d0"
            ],
            [
             0.7,
             "#b8e186"
            ],
            [
             0.8,
             "#7fbc41"
            ],
            [
             0.9,
             "#4d9221"
            ],
            [
             1,
             "#276419"
            ]
           ],
           "sequential": [
            [
             0,
             "#0d0887"
            ],
            [
             0.1111111111111111,
             "#46039f"
            ],
            [
             0.2222222222222222,
             "#7201a8"
            ],
            [
             0.3333333333333333,
             "#9c179e"
            ],
            [
             0.4444444444444444,
             "#bd3786"
            ],
            [
             0.5555555555555556,
             "#d8576b"
            ],
            [
             0.6666666666666666,
             "#ed7953"
            ],
            [
             0.7777777777777778,
             "#fb9f3a"
            ],
            [
             0.8888888888888888,
             "#fdca26"
            ],
            [
             1,
             "#f0f921"
            ]
           ],
           "sequentialminus": [
            [
             0,
             "#0d0887"
            ],
            [
             0.1111111111111111,
             "#46039f"
            ],
            [
             0.2222222222222222,
             "#7201a8"
            ],
            [
             0.3333333333333333,
             "#9c179e"
            ],
            [
             0.4444444444444444,
             "#bd3786"
            ],
            [
             0.5555555555555556,
             "#d8576b"
            ],
            [
             0.6666666666666666,
             "#ed7953"
            ],
            [
             0.7777777777777778,
             "#fb9f3a"
            ],
            [
             0.8888888888888888,
             "#fdca26"
            ],
            [
             1,
             "#f0f921"
            ]
           ]
          },
          "colorway": [
           "#636efa",
           "#EF553B",
           "#00cc96",
           "#ab63fa",
           "#FFA15A",
           "#19d3f3",
           "#FF6692",
           "#B6E880",
           "#FF97FF",
           "#FECB52"
          ],
          "font": {
           "color": "#2a3f5f"
          },
          "geo": {
           "bgcolor": "white",
           "lakecolor": "white",
           "landcolor": "#E5ECF6",
           "showlakes": true,
           "showland": true,
           "subunitcolor": "white"
          },
          "hoverlabel": {
           "align": "left"
          },
          "hovermode": "closest",
          "mapbox": {
           "style": "light"
          },
          "paper_bgcolor": "white",
          "plot_bgcolor": "#E5ECF6",
          "polar": {
           "angularaxis": {
            "gridcolor": "white",
            "linecolor": "white",
            "ticks": ""
           },
           "bgcolor": "#E5ECF6",
           "radialaxis": {
            "gridcolor": "white",
            "linecolor": "white",
            "ticks": ""
           }
          },
          "scene": {
           "xaxis": {
            "backgroundcolor": "#E5ECF6",
            "gridcolor": "white",
            "gridwidth": 2,
            "linecolor": "white",
            "showbackground": true,
            "ticks": "",
            "zerolinecolor": "white"
           },
           "yaxis": {
            "backgroundcolor": "#E5ECF6",
            "gridcolor": "white",
            "gridwidth": 2,
            "linecolor": "white",
            "showbackground": true,
            "ticks": "",
            "zerolinecolor": "white"
           },
           "zaxis": {
            "backgroundcolor": "#E5ECF6",
            "gridcolor": "white",
            "gridwidth": 2,
            "linecolor": "white",
            "showbackground": true,
            "ticks": "",
            "zerolinecolor": "white"
           }
          },
          "shapedefaults": {
           "line": {
            "color": "#2a3f5f"
           }
          },
          "ternary": {
           "aaxis": {
            "gridcolor": "white",
            "linecolor": "white",
            "ticks": ""
           },
           "baxis": {
            "gridcolor": "white",
            "linecolor": "white",
            "ticks": ""
           },
           "bgcolor": "#E5ECF6",
           "caxis": {
            "gridcolor": "white",
            "linecolor": "white",
            "ticks": ""
           }
          },
          "title": {
           "x": 0.05
          },
          "xaxis": {
           "automargin": true,
           "gridcolor": "white",
           "linecolor": "white",
           "ticks": "",
           "title": {
            "standoff": 15
           },
           "zerolinecolor": "white",
           "zerolinewidth": 2
          },
          "yaxis": {
           "automargin": true,
           "gridcolor": "white",
           "linecolor": "white",
           "ticks": "",
           "title": {
            "standoff": 15
           },
           "zerolinecolor": "white",
           "zerolinewidth": 2
          }
         }
        },
        "title": {
         "text": "3D Feature Space Visualization"
        }
       }
      }
     },
     "metadata": {},
     "output_type": "display_data"
    }
   ],
   "source": [
    "# Interactive 3D plot of key features\n",
    "fig = px.scatter_3d(\n",
    "    df.sample(1000, random_state=42),\n",
    "    x='Age',\n",
    "    y='Cholesterol',\n",
    "    z='Blood Pressure',\n",
    "    color='Heart Attack Risk',\n",
    "    symbol='Heart Attack Risk',\n",
    "    opacity=0.7,\n",
    "    title='3D Feature Space Visualization',\n",
    "    height=800,\n",
    "    color_continuous_scale='viridis'\n",
    ")\n",
    "fig.update_layout(margin=dict(l=0, r=0, b=0, t=0))\n",
    "fig.show()"
   ]
  },
  {
   "cell_type": "markdown",
   "id": "8f88295d",
   "metadata": {},
   "source": [
    "STRONG DATA FILTERING SECTION"
   ]
  },
  {
   "cell_type": "code",
   "execution_count": 39,
   "id": "e955da8f",
   "metadata": {},
   "outputs": [
    {
     "name": "stdout",
     "output_type": "stream",
     "text": [
      "\n",
      "Applying advanced data filtering...\n"
     ]
    }
   ],
   "source": [
    "print(\"\\nApplying advanced data filtering...\")\n",
    "original_df_size = len(df)"
   ]
  },
  {
   "cell_type": "code",
   "execution_count": 40,
   "id": "708e19b0",
   "metadata": {},
   "outputs": [],
   "source": [
    "# Import required libraries\n",
    "import pandas as pd\n",
    "import numpy as np\n",
    "from scipy import stats\n",
    "import os\n",
    "import sys"
   ]
  },
  {
   "cell_type": "code",
   "execution_count": 42,
   "id": "4b9b1126",
   "metadata": {},
   "outputs": [],
   "source": [
    "# Define file paths and create output directory\n",
    "input_file = r\"/workspaces/Heart-Attack-Predictor/data/raw/heart_attack_prediction_dataset.csv\"\n",
    "output_file = r\"/workspaces/Heart-Attack-Predictor/notebooks/FC212045_Kavindu/cleaned_heart_attack_data.csv\"\n",
    "\n",
    "# Create output directory if it doesn't exist\n",
    "output_dir = os.path.dirname(output_file)\n",
    "if not os.path.exists(output_dir):\n",
    "    os.makedirs(output_dir)\n",
    "    print(f\"Created output directory: {output_dir}\")\n"
   ]
  },
  {
   "cell_type": "code",
   "execution_count": 43,
   "id": "fee545d1",
   "metadata": {},
   "outputs": [
    {
     "name": "stdout",
     "output_type": "stream",
     "text": [
      "Input file found successfully!\n"
     ]
    }
   ],
   "source": [
    "# : Check if input file exists\n",
    "if not os.path.exists(input_file):\n",
    "    print(f\"Error: Input file not found at specified path.\")\n",
    "    print(f\"Path: {input_file}\")\n",
    "    print(\"Please verify the file exists at this location.\")\n",
    "    sys.exit(1)\n",
    "else:\n",
    "    print(\"Input file found successfully!\")"
   ]
  },
  {
   "cell_type": "code",
   "execution_count": 44,
   "id": "a230eac3",
   "metadata": {},
   "outputs": [
    {
     "name": "stdout",
     "output_type": "stream",
     "text": [
      "Successfully loaded data: 8763 rows, 26 columns\n",
      "\n",
      "First 5 rows of original data:\n"
     ]
    },
    {
     "data": {
      "text/html": [
       "<div>\n",
       "<style scoped>\n",
       "    .dataframe tbody tr th:only-of-type {\n",
       "        vertical-align: middle;\n",
       "    }\n",
       "\n",
       "    .dataframe tbody tr th {\n",
       "        vertical-align: top;\n",
       "    }\n",
       "\n",
       "    .dataframe thead th {\n",
       "        text-align: right;\n",
       "    }\n",
       "</style>\n",
       "<table border=\"1\" class=\"dataframe\">\n",
       "  <thead>\n",
       "    <tr style=\"text-align: right;\">\n",
       "      <th></th>\n",
       "      <th>Patient ID</th>\n",
       "      <th>Age</th>\n",
       "      <th>Sex</th>\n",
       "      <th>Cholesterol</th>\n",
       "      <th>Blood Pressure</th>\n",
       "      <th>Heart Rate</th>\n",
       "      <th>Diabetes</th>\n",
       "      <th>Family History</th>\n",
       "      <th>Smoking</th>\n",
       "      <th>Obesity</th>\n",
       "      <th>...</th>\n",
       "      <th>Sedentary Hours Per Day</th>\n",
       "      <th>Income</th>\n",
       "      <th>BMI</th>\n",
       "      <th>Triglycerides</th>\n",
       "      <th>Physical Activity Days Per Week</th>\n",
       "      <th>Sleep Hours Per Day</th>\n",
       "      <th>Country</th>\n",
       "      <th>Continent</th>\n",
       "      <th>Hemisphere</th>\n",
       "      <th>Heart Attack Risk</th>\n",
       "    </tr>\n",
       "  </thead>\n",
       "  <tbody>\n",
       "    <tr>\n",
       "      <th>0</th>\n",
       "      <td>BMW7812</td>\n",
       "      <td>67</td>\n",
       "      <td>Male</td>\n",
       "      <td>208</td>\n",
       "      <td>158/88</td>\n",
       "      <td>72</td>\n",
       "      <td>0</td>\n",
       "      <td>0</td>\n",
       "      <td>1</td>\n",
       "      <td>0</td>\n",
       "      <td>...</td>\n",
       "      <td>6.615001</td>\n",
       "      <td>261404</td>\n",
       "      <td>31.251233</td>\n",
       "      <td>286</td>\n",
       "      <td>0</td>\n",
       "      <td>6</td>\n",
       "      <td>Argentina</td>\n",
       "      <td>South America</td>\n",
       "      <td>Southern Hemisphere</td>\n",
       "      <td>0</td>\n",
       "    </tr>\n",
       "    <tr>\n",
       "      <th>1</th>\n",
       "      <td>CZE1114</td>\n",
       "      <td>21</td>\n",
       "      <td>Male</td>\n",
       "      <td>389</td>\n",
       "      <td>165/93</td>\n",
       "      <td>98</td>\n",
       "      <td>1</td>\n",
       "      <td>1</td>\n",
       "      <td>1</td>\n",
       "      <td>1</td>\n",
       "      <td>...</td>\n",
       "      <td>4.963459</td>\n",
       "      <td>285768</td>\n",
       "      <td>27.194973</td>\n",
       "      <td>235</td>\n",
       "      <td>1</td>\n",
       "      <td>7</td>\n",
       "      <td>Canada</td>\n",
       "      <td>North America</td>\n",
       "      <td>Northern Hemisphere</td>\n",
       "      <td>0</td>\n",
       "    </tr>\n",
       "    <tr>\n",
       "      <th>2</th>\n",
       "      <td>BNI9906</td>\n",
       "      <td>21</td>\n",
       "      <td>Female</td>\n",
       "      <td>324</td>\n",
       "      <td>174/99</td>\n",
       "      <td>72</td>\n",
       "      <td>1</td>\n",
       "      <td>0</td>\n",
       "      <td>0</td>\n",
       "      <td>0</td>\n",
       "      <td>...</td>\n",
       "      <td>9.463426</td>\n",
       "      <td>235282</td>\n",
       "      <td>28.176571</td>\n",
       "      <td>587</td>\n",
       "      <td>4</td>\n",
       "      <td>4</td>\n",
       "      <td>France</td>\n",
       "      <td>Europe</td>\n",
       "      <td>Northern Hemisphere</td>\n",
       "      <td>0</td>\n",
       "    </tr>\n",
       "    <tr>\n",
       "      <th>3</th>\n",
       "      <td>JLN3497</td>\n",
       "      <td>84</td>\n",
       "      <td>Male</td>\n",
       "      <td>383</td>\n",
       "      <td>163/100</td>\n",
       "      <td>73</td>\n",
       "      <td>1</td>\n",
       "      <td>1</td>\n",
       "      <td>1</td>\n",
       "      <td>0</td>\n",
       "      <td>...</td>\n",
       "      <td>7.648981</td>\n",
       "      <td>125640</td>\n",
       "      <td>36.464704</td>\n",
       "      <td>378</td>\n",
       "      <td>3</td>\n",
       "      <td>4</td>\n",
       "      <td>Canada</td>\n",
       "      <td>North America</td>\n",
       "      <td>Northern Hemisphere</td>\n",
       "      <td>0</td>\n",
       "    </tr>\n",
       "    <tr>\n",
       "      <th>4</th>\n",
       "      <td>GFO8847</td>\n",
       "      <td>66</td>\n",
       "      <td>Male</td>\n",
       "      <td>318</td>\n",
       "      <td>91/88</td>\n",
       "      <td>93</td>\n",
       "      <td>1</td>\n",
       "      <td>1</td>\n",
       "      <td>1</td>\n",
       "      <td>1</td>\n",
       "      <td>...</td>\n",
       "      <td>1.514821</td>\n",
       "      <td>160555</td>\n",
       "      <td>21.809144</td>\n",
       "      <td>231</td>\n",
       "      <td>1</td>\n",
       "      <td>5</td>\n",
       "      <td>Thailand</td>\n",
       "      <td>Asia</td>\n",
       "      <td>Northern Hemisphere</td>\n",
       "      <td>0</td>\n",
       "    </tr>\n",
       "  </tbody>\n",
       "</table>\n",
       "<p>5 rows × 26 columns</p>\n",
       "</div>"
      ],
      "text/plain": [
       "  Patient ID  Age     Sex  Cholesterol Blood Pressure  Heart Rate  Diabetes  \\\n",
       "0    BMW7812   67    Male          208         158/88          72         0   \n",
       "1    CZE1114   21    Male          389         165/93          98         1   \n",
       "2    BNI9906   21  Female          324         174/99          72         1   \n",
       "3    JLN3497   84    Male          383        163/100          73         1   \n",
       "4    GFO8847   66    Male          318          91/88          93         1   \n",
       "\n",
       "   Family History  Smoking  Obesity  ...  Sedentary Hours Per Day  Income  \\\n",
       "0               0        1        0  ...                 6.615001  261404   \n",
       "1               1        1        1  ...                 4.963459  285768   \n",
       "2               0        0        0  ...                 9.463426  235282   \n",
       "3               1        1        0  ...                 7.648981  125640   \n",
       "4               1        1        1  ...                 1.514821  160555   \n",
       "\n",
       "         BMI  Triglycerides  Physical Activity Days Per Week  \\\n",
       "0  31.251233            286                                0   \n",
       "1  27.194973            235                                1   \n",
       "2  28.176571            587                                4   \n",
       "3  36.464704            378                                3   \n",
       "4  21.809144            231                                1   \n",
       "\n",
       "   Sleep Hours Per Day    Country      Continent           Hemisphere  \\\n",
       "0                    6  Argentina  South America  Southern Hemisphere   \n",
       "1                    7     Canada  North America  Northern Hemisphere   \n",
       "2                    4     France         Europe  Northern Hemisphere   \n",
       "3                    4     Canada  North America  Northern Hemisphere   \n",
       "4                    5   Thailand           Asia  Northern Hemisphere   \n",
       "\n",
       "   Heart Attack Risk  \n",
       "0                  0  \n",
       "1                  0  \n",
       "2                  0  \n",
       "3                  0  \n",
       "4                  0  \n",
       "\n",
       "[5 rows x 26 columns]"
      ]
     },
     "metadata": {},
     "output_type": "display_data"
    }
   ],
   "source": [
    "# : Load dataset and show initial information\n",
    "try:\n",
    "    df = pd.read_csv(input_file)\n",
    "    original_shape = df.shape\n",
    "    print(f\"Successfully loaded data: {original_shape[0]} rows, {original_shape[1]} columns\")\n",
    "    print(\"\\nFirst 5 rows of original data:\")\n",
    "    display(df.head())\n",
    "    \n",
    "except Exception as e:\n",
    "    print(f\"\\nError loading file: {str(e)}\")\n",
    "    sys.exit(1)"
   ]
  },
  {
   "cell_type": "code",
   "execution_count": 45,
   "id": "b7fe4dfc",
   "metadata": {},
   "outputs": [
    {
     "name": "stdout",
     "output_type": "stream",
     "text": [
      "Blood pressure split into separate columns:\n"
     ]
    },
    {
     "data": {
      "text/html": [
       "<div>\n",
       "<style scoped>\n",
       "    .dataframe tbody tr th:only-of-type {\n",
       "        vertical-align: middle;\n",
       "    }\n",
       "\n",
       "    .dataframe tbody tr th {\n",
       "        vertical-align: top;\n",
       "    }\n",
       "\n",
       "    .dataframe thead th {\n",
       "        text-align: right;\n",
       "    }\n",
       "</style>\n",
       "<table border=\"1\" class=\"dataframe\">\n",
       "  <thead>\n",
       "    <tr style=\"text-align: right;\">\n",
       "      <th></th>\n",
       "      <th>Systolic_BP</th>\n",
       "      <th>Diastolic_BP</th>\n",
       "      <th>Pulse_Pressure</th>\n",
       "    </tr>\n",
       "  </thead>\n",
       "  <tbody>\n",
       "    <tr>\n",
       "      <th>0</th>\n",
       "      <td>158.0</td>\n",
       "      <td>88.0</td>\n",
       "      <td>70.0</td>\n",
       "    </tr>\n",
       "    <tr>\n",
       "      <th>1</th>\n",
       "      <td>165.0</td>\n",
       "      <td>93.0</td>\n",
       "      <td>72.0</td>\n",
       "    </tr>\n",
       "    <tr>\n",
       "      <th>2</th>\n",
       "      <td>174.0</td>\n",
       "      <td>99.0</td>\n",
       "      <td>75.0</td>\n",
       "    </tr>\n",
       "    <tr>\n",
       "      <th>3</th>\n",
       "      <td>163.0</td>\n",
       "      <td>100.0</td>\n",
       "      <td>63.0</td>\n",
       "    </tr>\n",
       "    <tr>\n",
       "      <th>4</th>\n",
       "      <td>91.0</td>\n",
       "      <td>88.0</td>\n",
       "      <td>3.0</td>\n",
       "    </tr>\n",
       "  </tbody>\n",
       "</table>\n",
       "</div>"
      ],
      "text/plain": [
       "   Systolic_BP  Diastolic_BP  Pulse_Pressure\n",
       "0        158.0          88.0            70.0\n",
       "1        165.0          93.0            72.0\n",
       "2        174.0          99.0            75.0\n",
       "3        163.0         100.0            63.0\n",
       "4         91.0          88.0             3.0"
      ]
     },
     "metadata": {},
     "output_type": "display_data"
    }
   ],
   "source": [
    "# : Split blood pressure into separate columns\n",
    "# Split blood pressure into systolic and diastolic\n",
    "df[['Systolic_BP', 'Diastolic_BP']] = df['Blood Pressure'].str.split('/', expand=True).astype(float)\n",
    "df = df.drop(columns='Blood Pressure')\n",
    "\n",
    "# Create pulse pressure feature\n",
    "df['Pulse_Pressure'] = df['Systolic_BP'] - df['Diastolic_BP']\n",
    "\n",
    "print(\"Blood pressure split into separate columns:\")\n",
    "display(df[['Systolic_BP', 'Diastolic_BP', 'Pulse_Pressure']].head())"
   ]
  },
  {
   "cell_type": "code",
   "execution_count": 46,
   "id": "4bc3c45d",
   "metadata": {},
   "outputs": [
    {
     "name": "stdout",
     "output_type": "stream",
     "text": [
      "No missing values in Cholesterol\n",
      "No missing values in BMI\n",
      "No missing values in Triglycerides\n"
     ]
    }
   ],
   "source": [
    "# : Handle missing values\n",
    "cols_to_check = ['Cholesterol', 'BMI', 'Triglycerides']\n",
    "for col in cols_to_check:\n",
    "    if df[col].isnull().sum() > 0:\n",
    "        median_val = df[col].median()\n",
    "        df[col] = df[col].fillna(median_val)\n",
    "        print(f\"Filled {df[col].isnull().sum()} missing values in {col} with median {median_val:.2f}\")\n",
    "    else:\n",
    "        print(f\"No missing values in {col}\")"
   ]
  },
  {
   "cell_type": "code",
   "execution_count": 47,
   "id": "52c147e7",
   "metadata": {},
   "outputs": [
    {
     "name": "stdout",
     "output_type": "stream",
     "text": [
      "Initial record count: 8763\n",
      "\n",
      "Total removed due to invalid medical values: 0\n",
      "New record count: 8763\n"
     ]
    }
   ],
   "source": [
    "# : Filter invalid medical values\n",
    "valid_ranges = {\n",
    "    'Age': (0, 120),\n",
    "    'Cholesterol': (100, 600),\n",
    "    'Systolic_BP': (70, 250),\n",
    "    'Diastolic_BP': (40, 150),\n",
    "    'Heart Rate': (30, 220),\n",
    "    'BMI': (10, 60),\n",
    "    'Triglycerides': (30, 1000),\n",
    "    'Sleep Hours Per Day': (0, 24),\n",
    "    'Exercise Hours Per Week': (0, 168)\n",
    "}\n",
    "\n",
    "initial_count = len(df)\n",
    "print(f\"Initial record count: {initial_count}\")\n",
    "\n",
    "for col, (min_val, max_val) in valid_ranges.items():\n",
    "    before = len(df)\n",
    "    df = df[(df[col] >= min_val) & (df[col] <= max_val)]\n",
    "    removed = before - len(df)\n",
    "    if removed > 0:\n",
    "        print(f\"Removed {removed} records with invalid {col} values\")\n",
    "\n",
    "print(f\"\\nTotal removed due to invalid medical values: {initial_count - len(df)}\")\n",
    "print(f\"New record count: {len(df)}\")"
   ]
  },
  {
   "cell_type": "code",
   "execution_count": 48,
   "id": "f5f09ff3",
   "metadata": {},
   "outputs": [
    {
     "name": "stdout",
     "output_type": "stream",
     "text": [
      "Winsorizing extreme values (top and bottom 1%):\n",
      "\n",
      "Cholesterol before winsorization:\n",
      "count    8763.000000\n",
      "mean      259.877211\n",
      "std        80.863276\n",
      "min       120.000000\n",
      "25%       192.000000\n",
      "50%       259.000000\n",
      "75%       330.000000\n",
      "max       400.000000\n",
      "Name: Cholesterol, dtype: float64\n",
      "\n",
      "Cholesterol after winsorization:\n",
      "count    8763.000000\n",
      "mean      259.876640\n",
      "std        80.824273\n",
      "min       122.000000\n",
      "25%       192.000000\n",
      "50%       259.000000\n",
      "75%       330.000000\n",
      "max       398.000000\n",
      "Name: Cholesterol, dtype: float64\n",
      "\n",
      "Triglycerides before winsorization:\n",
      "count    8763.000000\n",
      "mean      417.677051\n",
      "std       223.748137\n",
      "min        30.000000\n",
      "25%       225.500000\n",
      "50%       417.000000\n",
      "75%       612.000000\n",
      "max       800.000000\n",
      "Name: Triglycerides, dtype: float64\n",
      "\n",
      "Triglycerides after winsorization:\n",
      "count    8763.000000\n",
      "mean      417.681730\n",
      "std       223.618458\n",
      "min        37.000000\n",
      "25%       225.500000\n",
      "50%       417.000000\n",
      "75%       612.000000\n",
      "max       794.000000\n",
      "Name: Triglycerides, dtype: float64\n",
      "\n",
      "Systolic_BP before winsorization:\n",
      "count    8763.000000\n",
      "mean      135.075659\n",
      "std        26.349976\n",
      "min        90.000000\n",
      "25%       112.000000\n",
      "50%       135.000000\n",
      "75%       158.000000\n",
      "max       180.000000\n",
      "Name: Systolic_BP, dtype: float64\n",
      "\n",
      "Systolic_BP after winsorization:\n",
      "count    8763.000000\n",
      "mean      135.075659\n",
      "std        26.349976\n",
      "min        90.000000\n",
      "25%       112.000000\n",
      "50%       135.000000\n",
      "75%       158.000000\n",
      "max       180.000000\n",
      "Name: Systolic_BP, dtype: float64\n",
      "\n",
      "Income before winsorization:\n",
      "count      8763.000000\n",
      "mean     158263.181901\n",
      "std       80575.190806\n",
      "min       20062.000000\n",
      "25%       88310.000000\n",
      "50%      157866.000000\n",
      "75%      227749.000000\n",
      "max      299954.000000\n",
      "Name: Income, dtype: float64\n",
      "\n",
      "Income after winsorization:\n",
      "count      8763.000000\n",
      "mean     158260.916581\n",
      "std       80529.130727\n",
      "min       22462.000000\n",
      "25%       88310.000000\n",
      "50%      157866.000000\n",
      "75%      227749.000000\n",
      "max      297079.000000\n",
      "Name: Income, dtype: float64\n"
     ]
    },
    {
     "name": "stderr",
     "output_type": "stream",
     "text": [
      "/root/miniforge3/lib/python3.12/site-packages/numpy/lib/_function_base_impl.py:4842: UserWarning:\n",
      "\n",
      "Warning: 'partition' will ignore the 'mask' of the MaskedArray.\n",
      "\n",
      "/root/miniforge3/lib/python3.12/site-packages/numpy/lib/_function_base_impl.py:4842: UserWarning:\n",
      "\n",
      "Warning: 'partition' will ignore the 'mask' of the MaskedArray.\n",
      "\n",
      "/root/miniforge3/lib/python3.12/site-packages/numpy/lib/_function_base_impl.py:4842: UserWarning:\n",
      "\n",
      "Warning: 'partition' will ignore the 'mask' of the MaskedArray.\n",
      "\n",
      "/root/miniforge3/lib/python3.12/site-packages/numpy/lib/_function_base_impl.py:4842: UserWarning:\n",
      "\n",
      "Warning: 'partition' will ignore the 'mask' of the MaskedArray.\n",
      "\n"
     ]
    }
   ],
   "source": [
    "# : Handle outliers using winsorization\n",
    "cols_to_winsorize = ['Cholesterol', 'Triglycerides', 'Systolic_BP', 'Income']\n",
    "print(\"Winsorizing extreme values (top and bottom 1%):\")\n",
    "\n",
    "for col in cols_to_winsorize:\n",
    "    # Show distribution before\n",
    "    print(f\"\\n{col} before winsorization:\")\n",
    "    print(df[col].describe())\n",
    "    \n",
    "    # Winsorize\n",
    "    df[col] = stats.mstats.winsorize(df[col], limits=[0.01, 0.01])\n",
    "    \n",
    "    # Show distribution after\n",
    "    print(f\"\\n{col} after winsorization:\")\n",
    "    print(df[col].describe())"
   ]
  },
  {
   "cell_type": "code",
   "execution_count": 49,
   "id": "3ae087d1",
   "metadata": {},
   "outputs": [
    {
     "name": "stdout",
     "output_type": "stream",
     "text": [
      "Encoded Sex: Male=1, Female=0\n",
      "Converted Diabetes to integer\n",
      "Converted Family History to integer\n",
      "Converted Smoking to integer\n",
      "Converted Obesity to integer\n",
      "Converted Alcohol Consumption to integer\n",
      "Converted Previous Heart Problems to integer\n",
      "Converted Medication Use to integer\n",
      "Encoded Diet: Unhealthy=0, Average=1, Healthy=2\n",
      "One-hot encoded Continent\n",
      "\n",
      "Data types after encoding:\n",
      "int64      18\n",
      "float64     6\n",
      "bool        5\n",
      "object      3\n",
      "Name: count, dtype: int64\n"
     ]
    }
   ],
   "source": [
    "# : Encode categorical variables\n",
    "# Binary features\n",
    "df['Sex'] = df['Sex'].map({'Male': 1, 'Female': 0})\n",
    "print(\"Encoded Sex: Male=1, Female=0\")\n",
    "\n",
    "# Convert binary columns to integers\n",
    "binary_cols = ['Diabetes', 'Family History', 'Smoking', 'Obesity', \n",
    "               'Alcohol Consumption', 'Previous Heart Problems', 'Medication Use']\n",
    "for col in binary_cols:\n",
    "    df[col] = df[col].astype(int)\n",
    "    print(f\"Converted {col} to integer\")\n",
    "\n",
    "# Diet encoding (ordinal)\n",
    "diet_mapping = {'Unhealthy': 0, 'Average': 1, 'Healthy': 2}\n",
    "df['Diet'] = df['Diet'].map(diet_mapping)\n",
    "print(\"Encoded Diet: Unhealthy=0, Average=1, Healthy=2\")\n",
    "\n",
    "# Continent encoding (one-hot)\n",
    "df = pd.get_dummies(df, columns=['Continent'], prefix='Cont', drop_first=True)\n",
    "print(\"One-hot encoded Continent\")\n",
    "\n",
    "print(\"\\nData types after encoding:\")\n",
    "print(df.dtypes.value_counts())"
   ]
  },
  {
   "cell_type": "code",
   "execution_count": 51,
   "id": "2422cb41",
   "metadata": {},
   "outputs": [
    {
     "name": "stdout",
     "output_type": "stream",
     "text": [
      "Hypertension cases: 5971\n",
      "Metabolic syndrome risk cases: 8413\n",
      "Created Sedentary_Ratio feature\n",
      "\n",
      "New features summary:\n"
     ]
    },
    {
     "data": {
      "text/html": [
       "<div>\n",
       "<style scoped>\n",
       "    .dataframe tbody tr th:only-of-type {\n",
       "        vertical-align: middle;\n",
       "    }\n",
       "\n",
       "    .dataframe tbody tr th {\n",
       "        vertical-align: top;\n",
       "    }\n",
       "\n",
       "    .dataframe thead th {\n",
       "        text-align: right;\n",
       "    }\n",
       "</style>\n",
       "<table border=\"1\" class=\"dataframe\">\n",
       "  <thead>\n",
       "    <tr style=\"text-align: right;\">\n",
       "      <th></th>\n",
       "      <th>Hypertension</th>\n",
       "      <th>Metabolic_Risk</th>\n",
       "      <th>Sedentary_Ratio</th>\n",
       "    </tr>\n",
       "  </thead>\n",
       "  <tbody>\n",
       "    <tr>\n",
       "      <th>count</th>\n",
       "      <td>8763.000000</td>\n",
       "      <td>8763.000000</td>\n",
       "      <td>8763.000000</td>\n",
       "    </tr>\n",
       "    <tr>\n",
       "      <th>mean</th>\n",
       "      <td>0.681388</td>\n",
       "      <td>0.960059</td>\n",
       "      <td>21.791371</td>\n",
       "    </tr>\n",
       "    <tr>\n",
       "      <th>std</th>\n",
       "      <td>0.465965</td>\n",
       "      <td>0.195831</td>\n",
       "      <td>220.858348</td>\n",
       "    </tr>\n",
       "    <tr>\n",
       "      <th>min</th>\n",
       "      <td>0.000000</td>\n",
       "      <td>0.000000</td>\n",
       "      <td>0.000988</td>\n",
       "    </tr>\n",
       "    <tr>\n",
       "      <th>25%</th>\n",
       "      <td>0.000000</td>\n",
       "      <td>1.000000</td>\n",
       "      <td>2.129784</td>\n",
       "    </tr>\n",
       "    <tr>\n",
       "      <th>50%</th>\n",
       "      <td>1.000000</td>\n",
       "      <td>1.000000</td>\n",
       "      <td>4.192163</td>\n",
       "    </tr>\n",
       "    <tr>\n",
       "      <th>75%</th>\n",
       "      <td>1.000000</td>\n",
       "      <td>1.000000</td>\n",
       "      <td>8.423461</td>\n",
       "    </tr>\n",
       "    <tr>\n",
       "      <th>max</th>\n",
       "      <td>1.000000</td>\n",
       "      <td>1.000000</td>\n",
       "      <td>11077.106875</td>\n",
       "    </tr>\n",
       "  </tbody>\n",
       "</table>\n",
       "</div>"
      ],
      "text/plain": [
       "       Hypertension  Metabolic_Risk  Sedentary_Ratio\n",
       "count   8763.000000     8763.000000      8763.000000\n",
       "mean       0.681388        0.960059        21.791371\n",
       "std        0.465965        0.195831       220.858348\n",
       "min        0.000000        0.000000         0.000988\n",
       "25%        0.000000        1.000000         2.129784\n",
       "50%        1.000000        1.000000         4.192163\n",
       "75%        1.000000        1.000000         8.423461\n",
       "max        1.000000        1.000000     11077.106875"
      ]
     },
     "metadata": {},
     "output_type": "display_data"
    }
   ],
   "source": [
    "# : Feature engineering\n",
    "# Hypertension flag\n",
    "df['Hypertension'] = ((df['Systolic_BP'] >= 140) | (df['Diastolic_BP'] >= 90)).astype(int)\n",
    "print(f\"Hypertension cases: {df['Hypertension'].sum()}\")\n",
    "\n",
    "# Metabolic syndrome risk\n",
    "df['Metabolic_Risk'] = (\n",
    "    (df['BMI'] >= 30) | \n",
    "    (df['Triglycerides'] >= 150) | \n",
    "    (df['Cholesterol'] >= 240)\n",
    ").astype(int)\n",
    "print(f\"Metabolic syndrome risk cases: {df['Metabolic_Risk'].sum()}\")\n",
    "\n",
    "# Activity imbalance\n",
    "df['Sedentary_Ratio'] = df['Sedentary Hours Per Day'] / (df['Exercise Hours Per Week']/7 + 1e-6)\n",
    "print(\"Created Sedentary_Ratio feature\")\n",
    "\n",
    "print(\"\\nNew features summary:\")\n",
    "display(df[['Hypertension', 'Metabolic_Risk', 'Sedentary_Ratio']].describe())"
   ]
  },
  {
   "cell_type": "code",
   "execution_count": 52,
   "id": "53b5d86a",
   "metadata": {},
   "outputs": [
    {
     "name": "stdout",
     "output_type": "stream",
     "text": [
      "Final data check:\n",
      "Total records: 8763\n",
      "Total features: 35\n",
      "\n",
      "First 3 rows of cleaned data:\n"
     ]
    },
    {
     "data": {
      "text/html": [
       "<div>\n",
       "<style scoped>\n",
       "    .dataframe tbody tr th:only-of-type {\n",
       "        vertical-align: middle;\n",
       "    }\n",
       "\n",
       "    .dataframe tbody tr th {\n",
       "        vertical-align: top;\n",
       "    }\n",
       "\n",
       "    .dataframe thead th {\n",
       "        text-align: right;\n",
       "    }\n",
       "</style>\n",
       "<table border=\"1\" class=\"dataframe\">\n",
       "  <thead>\n",
       "    <tr style=\"text-align: right;\">\n",
       "      <th></th>\n",
       "      <th>Patient ID</th>\n",
       "      <th>Age</th>\n",
       "      <th>Sex</th>\n",
       "      <th>Cholesterol</th>\n",
       "      <th>Heart Rate</th>\n",
       "      <th>Diabetes</th>\n",
       "      <th>Family History</th>\n",
       "      <th>Smoking</th>\n",
       "      <th>Obesity</th>\n",
       "      <th>Alcohol Consumption</th>\n",
       "      <th>...</th>\n",
       "      <th>Diastolic_BP</th>\n",
       "      <th>Pulse_Pressure</th>\n",
       "      <th>Cont_Asia</th>\n",
       "      <th>Cont_Australia</th>\n",
       "      <th>Cont_Europe</th>\n",
       "      <th>Cont_North America</th>\n",
       "      <th>Cont_South America</th>\n",
       "      <th>Hypertension</th>\n",
       "      <th>Metabolic_Risk</th>\n",
       "      <th>Sedentary_Ratio</th>\n",
       "    </tr>\n",
       "  </thead>\n",
       "  <tbody>\n",
       "    <tr>\n",
       "      <th>0</th>\n",
       "      <td>BMW7812</td>\n",
       "      <td>67</td>\n",
       "      <td>1</td>\n",
       "      <td>208</td>\n",
       "      <td>72</td>\n",
       "      <td>0</td>\n",
       "      <td>0</td>\n",
       "      <td>1</td>\n",
       "      <td>0</td>\n",
       "      <td>0</td>\n",
       "      <td>...</td>\n",
       "      <td>88.0</td>\n",
       "      <td>70.0</td>\n",
       "      <td>False</td>\n",
       "      <td>False</td>\n",
       "      <td>False</td>\n",
       "      <td>False</td>\n",
       "      <td>True</td>\n",
       "      <td>1</td>\n",
       "      <td>1</td>\n",
       "      <td>11.109125</td>\n",
       "    </tr>\n",
       "    <tr>\n",
       "      <th>1</th>\n",
       "      <td>CZE1114</td>\n",
       "      <td>21</td>\n",
       "      <td>1</td>\n",
       "      <td>389</td>\n",
       "      <td>98</td>\n",
       "      <td>1</td>\n",
       "      <td>1</td>\n",
       "      <td>1</td>\n",
       "      <td>1</td>\n",
       "      <td>1</td>\n",
       "      <td>...</td>\n",
       "      <td>93.0</td>\n",
       "      <td>72.0</td>\n",
       "      <td>False</td>\n",
       "      <td>False</td>\n",
       "      <td>False</td>\n",
       "      <td>True</td>\n",
       "      <td>False</td>\n",
       "      <td>1</td>\n",
       "      <td>1</td>\n",
       "      <td>19.161306</td>\n",
       "    </tr>\n",
       "    <tr>\n",
       "      <th>2</th>\n",
       "      <td>BNI9906</td>\n",
       "      <td>21</td>\n",
       "      <td>0</td>\n",
       "      <td>324</td>\n",
       "      <td>72</td>\n",
       "      <td>1</td>\n",
       "      <td>0</td>\n",
       "      <td>0</td>\n",
       "      <td>0</td>\n",
       "      <td>0</td>\n",
       "      <td>...</td>\n",
       "      <td>99.0</td>\n",
       "      <td>75.0</td>\n",
       "      <td>False</td>\n",
       "      <td>False</td>\n",
       "      <td>True</td>\n",
       "      <td>False</td>\n",
       "      <td>False</td>\n",
       "      <td>1</td>\n",
       "      <td>1</td>\n",
       "      <td>31.873199</td>\n",
       "    </tr>\n",
       "  </tbody>\n",
       "</table>\n",
       "<p>3 rows × 35 columns</p>\n",
       "</div>"
      ],
      "text/plain": [
       "  Patient ID  Age  Sex  Cholesterol  Heart Rate  Diabetes  Family History  \\\n",
       "0    BMW7812   67    1          208          72         0               0   \n",
       "1    CZE1114   21    1          389          98         1               1   \n",
       "2    BNI9906   21    0          324          72         1               0   \n",
       "\n",
       "   Smoking  Obesity  Alcohol Consumption  ...  Diastolic_BP  Pulse_Pressure  \\\n",
       "0        1        0                    0  ...          88.0            70.0   \n",
       "1        1        1                    1  ...          93.0            72.0   \n",
       "2        0        0                    0  ...          99.0            75.0   \n",
       "\n",
       "   Cont_Asia  Cont_Australia  Cont_Europe  Cont_North America  \\\n",
       "0      False           False        False               False   \n",
       "1      False           False        False                True   \n",
       "2      False           False         True               False   \n",
       "\n",
       "   Cont_South America  Hypertension  Metabolic_Risk  Sedentary_Ratio  \n",
       "0                True             1               1        11.109125  \n",
       "1               False             1               1        19.161306  \n",
       "2               False             1               1        31.873199  \n",
       "\n",
       "[3 rows x 35 columns]"
      ]
     },
     "metadata": {},
     "output_type": "display_data"
    },
    {
     "name": "stdout",
     "output_type": "stream",
     "text": [
      "\n",
      "Saved cleaned data to: /workspaces/Heart-Attack-Predictor/notebooks/FC212045_Kavindu/cleaned_heart_attack_data.csv\n",
      "Original shape: (8763, 26)\n",
      "Cleaned shape: (8763, 35)\n",
      "Total records removed: 0\n"
     ]
    }
   ],
   "source": [
    "# : Final data check and save\n",
    "print(\"Final data check:\")\n",
    "print(f\"Total records: {len(df)}\")\n",
    "print(f\"Total features: {len(df.columns)}\")\n",
    "print(\"\\nFirst 3 rows of cleaned data:\")\n",
    "display(df.head(3))\n",
    "\n",
    "# Save cleaned data\n",
    "df.to_csv(output_file, index=False)\n",
    "print(f\"\\nSaved cleaned data to: {output_file}\")\n",
    "print(f\"Original shape: {original_shape}\")\n",
    "print(f\"Cleaned shape: {df.shape}\")\n",
    "print(f\"Total records removed: {original_shape[0] - len(df)}\")"
   ]
  },
  {
   "cell_type": "code",
   "execution_count": null,
   "id": "f5308b13",
   "metadata": {},
   "outputs": [],
   "source": []
  }
 ],
 "metadata": {
  "kernelspec": {
   "display_name": "base",
   "language": "python",
   "name": "python3"
  },
  "language_info": {
   "codemirror_mode": {
    "name": "ipython",
    "version": 3
   },
   "file_extension": ".py",
   "mimetype": "text/x-python",
   "name": "python",
   "nbconvert_exporter": "python",
   "pygments_lexer": "ipython3",
   "version": "3.12.10"
  }
 },
 "nbformat": 4,
 "nbformat_minor": 5
}
