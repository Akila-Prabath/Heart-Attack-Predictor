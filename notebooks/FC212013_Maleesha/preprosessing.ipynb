{
 "cells": [
  {
   "cell_type": "code",
   "execution_count": 4,
   "id": "982b9cba",
   "metadata": {},
   "outputs": [],
   "source": [
    "# 📌 Import libraries\n",
    "import pandas as pd\n",
    "from sklearn.model_selection import train_test_split\n",
    "from sklearn.preprocessing import LabelEncoder, StandardScaler\n",
    "import joblib"
   ]
  },
  {
   "cell_type": "code",
   "execution_count": 5,
   "id": "9945331d",
   "metadata": {},
   "outputs": [],
   "source": [
    "# 📌 Load dataset\n",
    "df = pd.read_csv('../../data/raw/heart_attack_prediction_dataset.csv')"
   ]
  },
  {
   "cell_type": "code",
   "execution_count": 6,
   "id": "b1c9105a",
   "metadata": {},
   "outputs": [],
   "source": [
    "# 📌 Drop unneeded column\n",
    "df.drop('Patient ID', axis=1, inplace=True)"
   ]
  },
  {
   "cell_type": "code",
   "execution_count": 7,
   "id": "c4e814b5",
   "metadata": {},
   "outputs": [],
   "source": [
    "# 📌 Convert Blood Pressure to numeric\n",
    "df[['Systolic BP', 'Diastolic BP']] = df['Blood Pressure'].str.split('/', expand=True).astype(int)\n",
    "df.drop('Blood Pressure', axis=1, inplace=True)\n"
   ]
  },
  {
   "cell_type": "code",
   "execution_count": 8,
   "id": "f440fc7c",
   "metadata": {},
   "outputs": [],
   "source": [
    "# 📌 Label encode categorical features\n",
    "label_cols = ['Sex', 'Diet', 'Hemisphere']\n",
    "le = LabelEncoder()\n",
    "for col in label_cols:\n",
    "    df[col] = le.fit_transform(df[col])"
   ]
  },
  {
   "cell_type": "code",
   "execution_count": 9,
   "id": "bce44625",
   "metadata": {},
   "outputs": [],
   "source": [
    "# 📌 One-hot encode categorical columns\n",
    "df = pd.get_dummies(df, columns=['Country', 'Continent'], drop_first=True)\n"
   ]
  },
  {
   "cell_type": "code",
   "execution_count": 10,
   "id": "9657b545",
   "metadata": {},
   "outputs": [],
   "source": [
    "# 📌 Split into features (X) and target (y)\n",
    "X = df.drop('Heart Attack Risk', axis=1)\n",
    "y = df['Heart Attack Risk']\n"
   ]
  },
  {
   "cell_type": "code",
   "execution_count": 11,
   "id": "6aff841c",
   "metadata": {},
   "outputs": [
    {
     "data": {
      "text/plain": [
       "['feature_names.pkl']"
      ]
     },
     "execution_count": 11,
     "metadata": {},
     "output_type": "execute_result"
    }
   ],
   "source": [
    "# 📌 Save feature names for later use\n",
    "feature_names = list(X.columns)\n",
    "joblib.dump(feature_names, 'feature_names.pkl')"
   ]
  },
  {
   "cell_type": "code",
   "execution_count": null,
   "id": "df59b5fa",
   "metadata": {},
   "outputs": [],
   "source": [
    "X_train, X_test, y_train, y_test = train_test_split(X, y, test_size=0.2, random_state=42)\n"
   ]
  },
  {
   "cell_type": "code",
   "execution_count": null,
   "id": "56555fdd",
   "metadata": {},
   "outputs": [],
   "source": [
    "scaler = StandardScaler()\n",
    "X_train_scaled = scaler.fit_transform(X_train)\n",
    "X_test_scaled = scaler.transform(X_test)\n"
   ]
  },
  {
   "cell_type": "code",
   "execution_count": null,
   "id": "e65010fd",
   "metadata": {},
   "outputs": [
    {
     "data": {
      "text/plain": [
       "['scaler.pkl']"
      ]
     },
     "execution_count": 14,
     "metadata": {},
     "output_type": "execute_result"
    }
   ],
   "source": [
    "joblib.dump(scaler, 'scaler.pkl')"
   ]
  },
  {
   "cell_type": "code",
   "execution_count": null,
   "id": "758bf7fa",
   "metadata": {},
   "outputs": [
    {
     "name": "stdout",
     "output_type": "stream",
     "text": [
      "Preprocessing complete — scaler and feature names saved.\n"
     ]
    }
   ],
   "source": [
    "print(\"Preprocessing complete — scaler and feature names saved.\")"
   ]
  }
 ],
 "metadata": {
  "kernelspec": {
   "display_name": "week_02",
   "language": "python",
   "name": "python3"
  },
  "language_info": {
   "codemirror_mode": {
    "name": "ipython",
    "version": 3
   },
   "file_extension": ".py",
   "mimetype": "text/x-python",
   "name": "python",
   "nbconvert_exporter": "python",
   "pygments_lexer": "ipython3",
   "version": "3.11.13"
  }
 },
 "nbformat": 4,
 "nbformat_minor": 5
}
